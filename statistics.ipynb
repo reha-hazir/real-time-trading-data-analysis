{
 "cells": [
  {
   "cell_type": "code",
   "execution_count": 90,
   "metadata": {},
   "outputs": [],
   "source": [
    "import numpy as np\n",
    "import pandas as pd\n",
    "from sklearn.preprocessing import MinMaxScaler\n",
    "import plotly.graph_objs as go\n",
    "# pd.options.display.float_format = '{:.9f}'.format"
   ]
  },
  {
   "cell_type": "code",
   "execution_count": 92,
   "metadata": {},
   "outputs": [
    {
     "data": {
      "text/html": [
       "<div>\n",
       "<style scoped>\n",
       "    .dataframe tbody tr th:only-of-type {\n",
       "        vertical-align: middle;\n",
       "    }\n",
       "\n",
       "    .dataframe tbody tr th {\n",
       "        vertical-align: top;\n",
       "    }\n",
       "\n",
       "    .dataframe thead th {\n",
       "        text-align: right;\n",
       "    }\n",
       "</style>\n",
       "<table border=\"1\" class=\"dataframe\">\n",
       "  <thead>\n",
       "    <tr style=\"text-align: right;\">\n",
       "      <th></th>\n",
       "      <th>timestamp</th>\n",
       "      <th>date</th>\n",
       "      <th>time</th>\n",
       "      <th>open_price</th>\n",
       "      <th>current_price</th>\n",
       "      <th>high_price</th>\n",
       "      <th>low_price</th>\n",
       "      <th>candleclosed</th>\n",
       "      <th>e</th>\n",
       "      <th>E</th>\n",
       "      <th>s</th>\n",
       "      <th>t</th>\n",
       "      <th>p</th>\n",
       "      <th>q</th>\n",
       "      <th>T</th>\n",
       "      <th>m</th>\n",
       "      <th>M</th>\n",
       "    </tr>\n",
       "  </thead>\n",
       "  <tbody>\n",
       "    <tr>\n",
       "      <th>0</th>\n",
       "      <td>2024-07-15 23:20:57,583</td>\n",
       "      <td>15-07-24</td>\n",
       "      <td>1721078457450</td>\n",
       "      <td>0.12266</td>\n",
       "      <td>0.12269</td>\n",
       "      <td>0.12272</td>\n",
       "      <td>0.12266</td>\n",
       "      <td>False</td>\n",
       "      <td>NaN</td>\n",
       "      <td>NaN</td>\n",
       "      <td>NaN</td>\n",
       "      <td>NaN</td>\n",
       "      <td>NaN</td>\n",
       "      <td>NaN</td>\n",
       "      <td>NaN</td>\n",
       "      <td>NaN</td>\n",
       "      <td>NaN</td>\n",
       "    </tr>\n",
       "    <tr>\n",
       "      <th>1</th>\n",
       "      <td>2024-07-15 23:21:00,156</td>\n",
       "      <td>15-07-24</td>\n",
       "      <td>1721078460007</td>\n",
       "      <td>0.12266</td>\n",
       "      <td>0.12270</td>\n",
       "      <td>0.12272</td>\n",
       "      <td>0.12266</td>\n",
       "      <td>True</td>\n",
       "      <td>trade</td>\n",
       "      <td>1.721078e+12</td>\n",
       "      <td>PEPEUSDT</td>\n",
       "      <td>139400463.0</td>\n",
       "      <td>0.00001091</td>\n",
       "      <td>143695112.00</td>\n",
       "      <td>1.721078e+12</td>\n",
       "      <td>False</td>\n",
       "      <td>True</td>\n",
       "    </tr>\n",
       "  </tbody>\n",
       "</table>\n",
       "</div>"
      ],
      "text/plain": [
       "                 timestamp      date           time  open_price  \\\n",
       "0  2024-07-15 23:20:57,583  15-07-24  1721078457450     0.12266   \n",
       "1  2024-07-15 23:21:00,156  15-07-24  1721078460007     0.12266   \n",
       "\n",
       "   current_price  high_price  low_price  candleclosed      e             E  \\\n",
       "0        0.12269     0.12272    0.12266         False    NaN           NaN   \n",
       "1        0.12270     0.12272    0.12266          True  trade  1.721078e+12   \n",
       "\n",
       "          s            t           p             q             T      m     M  \n",
       "0       NaN          NaN         NaN           NaN           NaN    NaN   NaN  \n",
       "1  PEPEUSDT  139400463.0  0.00001091  143695112.00  1.721078e+12  False  True  "
      ]
     },
     "execution_count": 92,
     "metadata": {},
     "output_type": "execute_result"
    }
   ],
   "source": [
    "import pandas as pd\n",
    "\n",
    "\n",
    "ohlc_data = [\n",
    "    {\n",
    "        'timestamp': '2024-07-15 23:20:57,583',\n",
    "        'date': '15-07-24',\n",
    "        'time': 1721078457450,\n",
    "        'open_price': 0.12266,\n",
    "        'current_price': 0.12269,\n",
    "        'high_price': 0.12272,\n",
    "        'low_price': 0.12266,\n",
    "        'candleclosed': False\n",
    "    },\n",
    "    {\n",
    "        'timestamp': '2024-07-15 23:21:00,156',\n",
    "        'date': '15-07-24',\n",
    "        'time': 1721078460007,\n",
    "        'open_price': 0.12266,\n",
    "        'current_price': 0.1227,\n",
    "        'high_price': 0.12272,\n",
    "        'low_price': 0.12266,\n",
    "        'candleclosed': True\n",
    "    }\n",
    "]\n",
    "\n",
    "\n",
    "volume_data = [\n",
    "    {\"e\":\"trade\",\"E\":1721078457521,\"s\":\"PEPEUSDT\",\"t\":139400440,\"p\":\"0.00001089\",\"q\":\"238000.00\",\"T\":1721078457520,\"m\":True,\"M\":True},\n",
    "    {\"e\":\"trade\",\"E\":1721078457693,\"s\":\"PEPEUSDT\",\"t\":139400441,\"p\":\"0.00001090\",\"q\":\"22935779.00\",\"T\":1721078457693,\"m\":False,\"M\":True},\n",
    "    {\"e\":\"trade\",\"E\":1721078458191,\"s\":\"PEPEUSDT\",\"t\":139400442,\"p\":\"0.00001090\",\"q\":\"5596330.00\",\"T\":1721078458190,\"m\":False,\"M\":True},\n",
    "    {\"e\":\"trade\",\"E\":1721078458520,\"s\":\"PEPEUSDT\",\"t\":139400443,\"p\":\"0.00001090\",\"q\":\"11957461.00\",\"T\":1721078458520,\"m\":False,\"M\":True},\n",
    "    {\"e\":\"trade\",\"E\":1721078459149,\"s\":\"PEPEUSDT\",\"t\":139400444,\"p\":\"0.00001090\",\"q\":\"145602661.00\",\"T\":1721078459149,\"m\":False,\"M\":True},\n",
    "    {\"e\":\"trade\",\"E\":1721078459150,\"s\":\"PEPEUSDT\",\"t\":139400445,\"p\":\"0.00001090\",\"q\":\"288032077.00\",\"T\":1721078459149,\"m\":False,\"M\":True},\n",
    "    {\"e\":\"trade\",\"E\":1721078459150,\"s\":\"PEPEUSDT\",\"t\":139400446,\"p\":\"0.00001090\",\"q\":\"240221395.00\",\"T\":1721078459149,\"m\":False,\"M\":True},\n",
    "    {\"e\":\"trade\",\"E\":1721078459150,\"s\":\"PEPEUSDT\",\"t\":139400447,\"p\":\"0.00001090\",\"q\":\"294756664.00\",\"T\":1721078459149,\"m\":False,\"M\":True},\n",
    "    {\"e\":\"trade\",\"E\":1721078459150,\"s\":\"PEPEUSDT\",\"t\":139400448,\"p\":\"0.00001090\",\"q\":\"254600000.00\",\"T\":1721078459149,\"m\":False,\"M\":True},\n",
    "    {\"e\":\"trade\",\"E\":1721078459150,\"s\":\"PEPEUSDT\",\"t\":139400449,\"p\":\"0.00001090\",\"q\":\"96287.00\",\"T\":1721078459149,\"m\":False,\"M\":True},\n",
    "    {\"e\":\"trade\",\"E\":1721078459150,\"s\":\"PEPEUSDT\",\"t\":139400450,\"p\":\"0.00001090\",\"q\":\"50547049.00\",\"T\":1721078459149,\"m\":False,\"M\":True},\n",
    "    {\"e\":\"trade\",\"E\":1721078459150,\"s\":\"PEPEUSDT\",\"t\":139400451,\"p\":\"0.00001090\",\"q\":\"29452951.00\",\"T\":1721078459149,\"m\":False,\"M\":True},\n",
    "    {\"e\":\"trade\",\"E\":1721078459150,\"s\":\"PEPEUSDT\",\"t\":139400452,\"p\":\"0.00001090\",\"q\":\"200000000.00\",\"T\":1721078459149,\"m\":False,\"M\":True},\n",
    "    {\"e\":\"trade\",\"E\":1721078459150,\"s\":\"PEPEUSDT\",\"t\":139400453,\"p\":\"0.00001090\",\"q\":\"275103163.00\",\"T\":1721078459149,\"m\":False,\"M\":True},\n",
    "    {\"e\":\"trade\",\"E\":1721078459150,\"s\":\"PEPEUSDT\",\"t\":139400454,\"p\":\"0.00001090\",\"q\":\"34152757.00\",\"T\":1721078459149,\"m\":False,\"M\":True},\n",
    "    {\"e\":\"trade\",\"E\":1721078459150,\"s\":\"PEPEUSDT\",\"t\":139400455,\"p\":\"0.00001090\",\"q\":\"5000000.00\",\"T\":1721078459149,\"m\":False,\"M\":True},\n",
    "    {\"e\":\"trade\",\"E\":1721078459150,\"s\":\"PEPEUSDT\",\"t\":139400456,\"p\":\"0.00001090\",\"q\":\"10000000.00\",\"T\":1721078459149,\"m\":False,\"M\":True},\n",
    "    {\"e\":\"trade\",\"E\":1721078459150,\"s\":\"PEPEUSDT\",\"t\":139400457,\"p\":\"0.00001090\",\"q\":\"58320924.00\",\"T\":1721078459149,\"m\":False,\"M\":True},\n",
    "    {\"e\":\"trade\",\"E\":1721078459150,\"s\":\"PEPEUSDT\",\"t\":139400458,\"p\":\"0.00001090\",\"q\":\"102353.00\",\"T\":1721078459149,\"m\":False,\"M\":True},\n",
    "    {\"e\":\"trade\",\"E\":1721078459150,\"s\":\"PEPEUSDT\",\"t\":139400459,\"p\":\"0.00001090\",\"q\":\"299406.00\",\"T\":1721078459149,\"m\":False,\"M\":True},\n",
    "    {\"e\":\"trade\",\"E\":1721078459150,\"s\":\"PEPEUSDT\",\"t\":139400460,\"p\":\"0.00001090\",\"q\":\"18348623.00\",\"T\":1721078459149,\"m\":False,\"M\":True},\n",
    "    {\"e\":\"trade\",\"E\":1721078459150,\"s\":\"PEPEUSDT\",\"t\":139400461,\"p\":\"0.00001090\",\"q\":\"2248681.00\",\"T\":1721078459149,\"m\":False,\"M\":True},\n",
    "    {\"e\":\"trade\",\"E\":1721078459150,\"s\":\"PEPEUSDT\",\"t\":139400462,\"p\":\"0.00001090\",\"q\":\"96375.00\",\"T\":1721078459149,\"m\":False,\"M\":True},\n",
    "    {\"e\":\"trade\",\"E\":1721078459741,\"s\":\"PEPEUSDT\",\"t\":139400463,\"p\":\"0.00001091\",\"q\":\"143695112.00\",\"T\":1721078459740,\"m\":False,\"M\":True},\n",
    "    {\"e\":\"trade\",\"E\":1721078460652,\"s\":\"PEPEUSDT\",\"t\":139400464,\"p\":\"0.00001091\",\"q\":\"17109447.00\",\"T\":1721078460647,\"m\":False,\"M\":True}\n",
    "]\n",
    "\n",
    "\n",
    "ohlc_df = pd.DataFrame(ohlc_data)\n",
    "\n",
    "\n",
    "volume_df = pd.DataFrame(volume_data)\n",
    "\n",
    "\n",
    "volume_df['p'] = volume_df['p'].astype(int)\n",
    "volume_df['q'] = volume_df['q'].astype(int)\n",
    "\n",
    "buy_volume = (volume_df[volume_df['m'] == True]['q'] * volume_df[volume_df['m'] == True]['p']).sum()\n",
    "sell_volume = (volume_df[volume_df['m'] == False]['q'] * volume_df[volume_df['m'] == False]['p']).sum()\n",
    "\n",
    "\n",
    "merged_data = pd.merge_asof(ohlc_df.sort_values('time'), volume_df.sort_values('T'), left_on='time', right_on='T')\n",
    "\n",
    "\n",
    "merged_data\n"
   ]
  },
  {
   "cell_type": "code",
   "execution_count": 94,
   "metadata": {},
   "outputs": [
    {
     "name": "stdout",
     "output_type": "stream",
     "text": [
      "<class 'pandas.core.frame.DataFrame'>\n",
      "RangeIndex: 25 entries, 0 to 24\n",
      "Data columns (total 9 columns):\n",
      " #   Column  Non-Null Count  Dtype \n",
      "---  ------  --------------  ----- \n",
      " 0   e       25 non-null     object\n",
      " 1   E       25 non-null     int64 \n",
      " 2   s       25 non-null     object\n",
      " 3   t       25 non-null     int64 \n",
      " 4   p       25 non-null     object\n",
      " 5   q       25 non-null     object\n",
      " 6   T       25 non-null     int64 \n",
      " 7   m       25 non-null     bool  \n",
      " 8   M       25 non-null     bool  \n",
      "dtypes: bool(2), int64(3), object(4)\n",
      "memory usage: 1.5+ KB\n"
     ]
    }
   ],
   "source": [
    "volume_df.info()"
   ]
  },
  {
   "cell_type": "code",
   "execution_count": 61,
   "metadata": {},
   "outputs": [
    {
     "data": {
      "text/html": [
       "<div>\n",
       "<style scoped>\n",
       "    .dataframe tbody tr th:only-of-type {\n",
       "        vertical-align: middle;\n",
       "    }\n",
       "\n",
       "    .dataframe tbody tr th {\n",
       "        vertical-align: top;\n",
       "    }\n",
       "\n",
       "    .dataframe thead th {\n",
       "        text-align: right;\n",
       "    }\n",
       "</style>\n",
       "<table border=\"1\" class=\"dataframe\">\n",
       "  <thead>\n",
       "    <tr style=\"text-align: right;\">\n",
       "      <th></th>\n",
       "      <th>Timestamp</th>\n",
       "      <th>Buy</th>\n",
       "      <th>Sell</th>\n",
       "      <th>Quantity</th>\n",
       "      <th>Price</th>\n",
       "    </tr>\n",
       "  </thead>\n",
       "  <tbody>\n",
       "    <tr>\n",
       "      <th>0</th>\n",
       "      <td>2024-07-15 20:09:14.158000</td>\n",
       "      <td>True</td>\n",
       "      <td>False</td>\n",
       "      <td>294335.0</td>\n",
       "      <td>0.000011</td>\n",
       "    </tr>\n",
       "    <tr>\n",
       "      <th>1</th>\n",
       "      <td>2024-07-15 20:09:14.241000</td>\n",
       "      <td>True</td>\n",
       "      <td>False</td>\n",
       "      <td>3284799.0</td>\n",
       "      <td>0.000011</td>\n",
       "    </tr>\n",
       "    <tr>\n",
       "      <th>2</th>\n",
       "      <td>2024-07-15 20:09:14.548000</td>\n",
       "      <td>True</td>\n",
       "      <td>False</td>\n",
       "      <td>24850251.0</td>\n",
       "      <td>0.000011</td>\n",
       "    </tr>\n",
       "    <tr>\n",
       "      <th>3</th>\n",
       "      <td>2024-07-15 20:09:15.076000</td>\n",
       "      <td>True</td>\n",
       "      <td>False</td>\n",
       "      <td>13905117.0</td>\n",
       "      <td>0.000011</td>\n",
       "    </tr>\n",
       "    <tr>\n",
       "      <th>4</th>\n",
       "      <td>2024-07-15 20:09:15.459000</td>\n",
       "      <td>True</td>\n",
       "      <td>False</td>\n",
       "      <td>11749780.0</td>\n",
       "      <td>0.000011</td>\n",
       "    </tr>\n",
       "  </tbody>\n",
       "</table>\n",
       "</div>"
      ],
      "text/plain": [
       "                    Timestamp   Buy   Sell    Quantity     Price\n",
       "0  2024-07-15 20:09:14.158000  True  False    294335.0  0.000011\n",
       "1  2024-07-15 20:09:14.241000  True  False   3284799.0  0.000011\n",
       "2  2024-07-15 20:09:14.548000  True  False  24850251.0  0.000011\n",
       "3  2024-07-15 20:09:15.076000  True  False  13905117.0  0.000011\n",
       "4  2024-07-15 20:09:15.459000  True  False  11749780.0  0.000011"
      ]
     },
     "execution_count": 61,
     "metadata": {},
     "output_type": "execute_result"
    }
   ],
   "source": [
    "df = pd.read_csv('trades_log.csv')\n",
    "df.head()"
   ]
  },
  {
   "cell_type": "code",
   "execution_count": 62,
   "metadata": {},
   "outputs": [
    {
     "name": "stdout",
     "output_type": "stream",
     "text": [
      "<class 'pandas.core.frame.DataFrame'>\n",
      "RangeIndex: 1446 entries, 0 to 1445\n",
      "Data columns (total 5 columns):\n",
      " #   Column     Non-Null Count  Dtype  \n",
      "---  ------     --------------  -----  \n",
      " 0   Timestamp  1446 non-null   object \n",
      " 1   Buy        1446 non-null   bool   \n",
      " 2   Sell       1446 non-null   bool   \n",
      " 3   Quantity   1446 non-null   float64\n",
      " 4   Price      1446 non-null   float64\n",
      "dtypes: bool(2), float64(2), object(1)\n",
      "memory usage: 36.8+ KB\n"
     ]
    }
   ],
   "source": [
    "df.info()"
   ]
  },
  {
   "cell_type": "code",
   "execution_count": 54,
   "metadata": {},
   "outputs": [],
   "source": [
    "df['Timestamp'] = df['Timestamp'].astype(str)"
   ]
  },
  {
   "cell_type": "code",
   "execution_count": 63,
   "metadata": {},
   "outputs": [],
   "source": [
    "df['Timestamp'] = pd.to_datetime(df['Timestamp'])"
   ]
  },
  {
   "cell_type": "code",
   "execution_count": 64,
   "metadata": {},
   "outputs": [],
   "source": [
    "df = df.sort_values(by='Timestamp')"
   ]
  },
  {
   "cell_type": "code",
   "execution_count": 95,
   "metadata": {},
   "outputs": [],
   "source": [
    "x = df[(df['Timestamp'] > '2024-07-15 20:12:00') & (df['Timestamp'] < '2024-07-15 20:13:00')]"
   ]
  },
  {
   "cell_type": "code",
   "execution_count": 96,
   "metadata": {},
   "outputs": [
    {
     "data": {
      "text/html": [
       "<div>\n",
       "<style scoped>\n",
       "    .dataframe tbody tr th:only-of-type {\n",
       "        vertical-align: middle;\n",
       "    }\n",
       "\n",
       "    .dataframe tbody tr th {\n",
       "        vertical-align: top;\n",
       "    }\n",
       "\n",
       "    .dataframe thead th {\n",
       "        text-align: right;\n",
       "    }\n",
       "</style>\n",
       "<table border=\"1\" class=\"dataframe\">\n",
       "  <thead>\n",
       "    <tr style=\"text-align: right;\">\n",
       "      <th></th>\n",
       "      <th>Timestamp</th>\n",
       "      <th>Buy</th>\n",
       "      <th>Sell</th>\n",
       "      <th>Quantity</th>\n",
       "      <th>Price</th>\n",
       "    </tr>\n",
       "  </thead>\n",
       "  <tbody>\n",
       "    <tr>\n",
       "      <th>1255</th>\n",
       "      <td>2024-07-15 20:12:01.504</td>\n",
       "      <td>False</td>\n",
       "      <td>True</td>\n",
       "      <td>1156190.0</td>\n",
       "      <td>0.000011</td>\n",
       "    </tr>\n",
       "    <tr>\n",
       "      <th>1256</th>\n",
       "      <td>2024-07-15 20:12:01.944</td>\n",
       "      <td>False</td>\n",
       "      <td>True</td>\n",
       "      <td>141084.0</td>\n",
       "      <td>0.000011</td>\n",
       "    </tr>\n",
       "    <tr>\n",
       "      <th>1257</th>\n",
       "      <td>2024-07-15 20:12:02.731</td>\n",
       "      <td>False</td>\n",
       "      <td>True</td>\n",
       "      <td>14437979.0</td>\n",
       "      <td>0.000011</td>\n",
       "    </tr>\n",
       "    <tr>\n",
       "      <th>1258</th>\n",
       "      <td>2024-07-15 20:12:02.897</td>\n",
       "      <td>True</td>\n",
       "      <td>False</td>\n",
       "      <td>3546450.0</td>\n",
       "      <td>0.000011</td>\n",
       "    </tr>\n",
       "    <tr>\n",
       "      <th>1259</th>\n",
       "      <td>2024-07-15 20:12:04.932</td>\n",
       "      <td>False</td>\n",
       "      <td>True</td>\n",
       "      <td>860548.0</td>\n",
       "      <td>0.000011</td>\n",
       "    </tr>\n",
       "  </tbody>\n",
       "</table>\n",
       "</div>"
      ],
      "text/plain": [
       "                   Timestamp    Buy   Sell    Quantity     Price\n",
       "1255 2024-07-15 20:12:01.504  False   True   1156190.0  0.000011\n",
       "1256 2024-07-15 20:12:01.944  False   True    141084.0  0.000011\n",
       "1257 2024-07-15 20:12:02.731  False   True  14437979.0  0.000011\n",
       "1258 2024-07-15 20:12:02.897   True  False   3546450.0  0.000011\n",
       "1259 2024-07-15 20:12:04.932  False   True    860548.0  0.000011"
      ]
     },
     "execution_count": 96,
     "metadata": {},
     "output_type": "execute_result"
    }
   ],
   "source": [
    "x.head()"
   ]
  },
  {
   "cell_type": "code",
   "execution_count": 97,
   "metadata": {},
   "outputs": [
    {
     "data": {
      "text/plain": [
       "3771572099.0"
      ]
     },
     "execution_count": 97,
     "metadata": {},
     "output_type": "execute_result"
    }
   ],
   "source": [
    "x[(x['Buy'] == True)]['Quantity'].sum()"
   ]
  },
  {
   "cell_type": "code",
   "execution_count": 87,
   "metadata": {},
   "outputs": [
    {
     "data": {
      "text/plain": [
       "11367437184.0"
      ]
     },
     "execution_count": 87,
     "metadata": {},
     "output_type": "execute_result"
    }
   ],
   "source": [
    "x[(x['Sell'] == True)]['Quantity'].sum()"
   ]
  },
  {
   "cell_type": "code",
   "execution_count": 99,
   "metadata": {},
   "outputs": [
    {
     "data": {
      "text/plain": [
       "numpy.float64"
      ]
     },
     "execution_count": 99,
     "metadata": {},
     "output_type": "execute_result"
    }
   ],
   "source": [
    "type((x[x['Buy'] == True]['Quantity'] * x[x['Buy'] == True]['Price']).sum())"
   ]
  },
  {
   "cell_type": "code",
   "execution_count": 89,
   "metadata": {},
   "outputs": [
    {
     "data": {
      "text/plain": [
       "120609.71443503999"
      ]
     },
     "execution_count": 89,
     "metadata": {},
     "output_type": "execute_result"
    }
   ],
   "source": [
    "(x[x['Sell'] == True]['Quantity'] * x[x['Sell'] == True]['Price']).sum()"
   ]
  },
  {
   "cell_type": "code",
   "execution_count": 2,
   "metadata": {},
   "outputs": [
    {
     "data": {
      "text/html": [
       "<div>\n",
       "<style scoped>\n",
       "    .dataframe tbody tr th:only-of-type {\n",
       "        vertical-align: middle;\n",
       "    }\n",
       "\n",
       "    .dataframe tbody tr th {\n",
       "        vertical-align: top;\n",
       "    }\n",
       "\n",
       "    .dataframe thead th {\n",
       "        text-align: right;\n",
       "    }\n",
       "</style>\n",
       "<table border=\"1\" class=\"dataframe\">\n",
       "  <thead>\n",
       "    <tr style=\"text-align: right;\">\n",
       "      <th></th>\n",
       "      <th>open</th>\n",
       "      <th>cls</th>\n",
       "      <th>high</th>\n",
       "      <th>low</th>\n",
       "    </tr>\n",
       "  </thead>\n",
       "  <tbody>\n",
       "    <tr>\n",
       "      <th>0</th>\n",
       "      <td>1</td>\n",
       "      <td>2</td>\n",
       "      <td>2</td>\n",
       "      <td>1</td>\n",
       "    </tr>\n",
       "    <tr>\n",
       "      <th>1</th>\n",
       "      <td>2</td>\n",
       "      <td>3</td>\n",
       "      <td>3</td>\n",
       "      <td>2</td>\n",
       "    </tr>\n",
       "    <tr>\n",
       "      <th>2</th>\n",
       "      <td>4</td>\n",
       "      <td>6</td>\n",
       "      <td>6</td>\n",
       "      <td>4</td>\n",
       "    </tr>\n",
       "    <tr>\n",
       "      <th>3</th>\n",
       "      <td>6</td>\n",
       "      <td>5</td>\n",
       "      <td>6</td>\n",
       "      <td>4</td>\n",
       "    </tr>\n",
       "    <tr>\n",
       "      <th>4</th>\n",
       "      <td>5</td>\n",
       "      <td>6</td>\n",
       "      <td>6</td>\n",
       "      <td>5</td>\n",
       "    </tr>\n",
       "  </tbody>\n",
       "</table>\n",
       "</div>"
      ],
      "text/plain": [
       "   open  cls  high  low\n",
       "0     1    2     2    1\n",
       "1     2    3     3    2\n",
       "2     4    6     6    4\n",
       "3     6    5     6    4\n",
       "4     5    6     6    5"
      ]
     },
     "execution_count": 2,
     "metadata": {},
     "output_type": "execute_result"
    }
   ],
   "source": [
    "#data\n",
    "data = {\n",
    "    'open': [1,2,4,6,5],\n",
    "    'cls': [2,3,6,5,6],\n",
    "    'high': [2,3,6,6,6],\n",
    "    'low': [1,2,4,4,5]\n",
    "}\n",
    "\n",
    "df = pd.DataFrame(data)\n",
    "df"
   ]
  },
  {
   "cell_type": "code",
   "execution_count": 28,
   "metadata": {},
   "outputs": [
    {
     "data": {
      "text/html": [
       "<div>\n",
       "<style scoped>\n",
       "    .dataframe tbody tr th:only-of-type {\n",
       "        vertical-align: middle;\n",
       "    }\n",
       "\n",
       "    .dataframe tbody tr th {\n",
       "        vertical-align: top;\n",
       "    }\n",
       "\n",
       "    .dataframe thead th {\n",
       "        text-align: right;\n",
       "    }\n",
       "</style>\n",
       "<table border=\"1\" class=\"dataframe\">\n",
       "  <thead>\n",
       "    <tr style=\"text-align: right;\">\n",
       "      <th></th>\n",
       "      <th>kline_start_time</th>\n",
       "      <th>kline_close_time</th>\n",
       "      <th>open_price</th>\n",
       "      <th>close_price</th>\n",
       "      <th>high_price</th>\n",
       "      <th>low_price</th>\n",
       "      <th>volume</th>\n",
       "    </tr>\n",
       "  </thead>\n",
       "  <tbody>\n",
       "    <tr>\n",
       "      <th>0</th>\n",
       "      <td>1719606000000</td>\n",
       "      <td>1719606299999</td>\n",
       "      <td>0.000012</td>\n",
       "      <td>0.000012</td>\n",
       "      <td>0.000012</td>\n",
       "      <td>0.000012</td>\n",
       "      <td>2.750322e+10</td>\n",
       "    </tr>\n",
       "    <tr>\n",
       "      <th>86</th>\n",
       "      <td>1719606300000</td>\n",
       "      <td>1719606599999</td>\n",
       "      <td>0.000012</td>\n",
       "      <td>0.000012</td>\n",
       "      <td>0.000012</td>\n",
       "      <td>0.000012</td>\n",
       "      <td>2.183856e+10</td>\n",
       "    </tr>\n",
       "    <tr>\n",
       "      <th>178</th>\n",
       "      <td>1719606600000</td>\n",
       "      <td>1719606899999</td>\n",
       "      <td>0.000012</td>\n",
       "      <td>0.000012</td>\n",
       "      <td>0.000012</td>\n",
       "      <td>0.000012</td>\n",
       "      <td>2.993800e+10</td>\n",
       "    </tr>\n",
       "    <tr>\n",
       "      <th>277</th>\n",
       "      <td>1719606900000</td>\n",
       "      <td>1719607199999</td>\n",
       "      <td>0.000012</td>\n",
       "      <td>0.000012</td>\n",
       "      <td>0.000012</td>\n",
       "      <td>0.000012</td>\n",
       "      <td>9.424110e+10</td>\n",
       "    </tr>\n",
       "    <tr>\n",
       "      <th>366</th>\n",
       "      <td>1719607200000</td>\n",
       "      <td>1719607499999</td>\n",
       "      <td>0.000012</td>\n",
       "      <td>0.000012</td>\n",
       "      <td>0.000012</td>\n",
       "      <td>0.000012</td>\n",
       "      <td>2.581484e+10</td>\n",
       "    </tr>\n",
       "  </tbody>\n",
       "</table>\n",
       "</div>"
      ],
      "text/plain": [
       "     kline_start_time  kline_close_time  open_price  close_price  high_price  \\\n",
       "0       1719606000000     1719606299999    0.000012     0.000012    0.000012   \n",
       "86      1719606300000     1719606599999    0.000012     0.000012    0.000012   \n",
       "178     1719606600000     1719606899999    0.000012     0.000012    0.000012   \n",
       "277     1719606900000     1719607199999    0.000012     0.000012    0.000012   \n",
       "366     1719607200000     1719607499999    0.000012     0.000012    0.000012   \n",
       "\n",
       "     low_price        volume  \n",
       "0     0.000012  2.750322e+10  \n",
       "86    0.000012  2.183856e+10  \n",
       "178   0.000012  2.993800e+10  \n",
       "277   0.000012  9.424110e+10  \n",
       "366   0.000012  2.581484e+10  "
      ]
     },
     "execution_count": 28,
     "metadata": {},
     "output_type": "execute_result"
    }
   ],
   "source": [
    "\n",
    "df = pd.read_csv('data_analytics/datasets/processed/pepeusdt_5m_28_june.csv')\n",
    "df = df.sort_values(by='event_time')\n",
    "df = df[df['is_kline_closed'] == True]\n",
    "columns_to_drop = [\n",
    "    'ignore', 'event_type','event_time', 'symbol', 'interval', 'is_kline_closed',\n",
    "    'quote_assest_volume', 'take_buy_base_asset_volume', 'taker_buy_quote_asset_volume',\n",
    "    'first_trade_id', 'last_trade_id', 'number_of_trades'\n",
    "]\n",
    "\n",
    "df = df.drop(columns=columns_to_drop)\n",
    "df.head()"
   ]
  },
  {
   "cell_type": "code",
   "execution_count": 3,
   "metadata": {},
   "outputs": [
    {
     "data": {
      "text/html": [
       "<div>\n",
       "<style scoped>\n",
       "    .dataframe tbody tr th:only-of-type {\n",
       "        vertical-align: middle;\n",
       "    }\n",
       "\n",
       "    .dataframe tbody tr th {\n",
       "        vertical-align: top;\n",
       "    }\n",
       "\n",
       "    .dataframe thead th {\n",
       "        text-align: right;\n",
       "    }\n",
       "</style>\n",
       "<table border=\"1\" class=\"dataframe\">\n",
       "  <thead>\n",
       "    <tr style=\"text-align: right;\">\n",
       "      <th></th>\n",
       "      <th>open</th>\n",
       "      <th>cls</th>\n",
       "      <th>high</th>\n",
       "      <th>low</th>\n",
       "    </tr>\n",
       "  </thead>\n",
       "  <tbody>\n",
       "    <tr>\n",
       "      <th>0</th>\n",
       "      <td>0.0</td>\n",
       "      <td>0.00</td>\n",
       "      <td>0.00</td>\n",
       "      <td>0.00</td>\n",
       "    </tr>\n",
       "    <tr>\n",
       "      <th>1</th>\n",
       "      <td>0.2</td>\n",
       "      <td>0.25</td>\n",
       "      <td>0.25</td>\n",
       "      <td>0.25</td>\n",
       "    </tr>\n",
       "    <tr>\n",
       "      <th>2</th>\n",
       "      <td>0.6</td>\n",
       "      <td>1.00</td>\n",
       "      <td>1.00</td>\n",
       "      <td>0.75</td>\n",
       "    </tr>\n",
       "    <tr>\n",
       "      <th>3</th>\n",
       "      <td>1.0</td>\n",
       "      <td>0.75</td>\n",
       "      <td>1.00</td>\n",
       "      <td>0.75</td>\n",
       "    </tr>\n",
       "    <tr>\n",
       "      <th>4</th>\n",
       "      <td>0.8</td>\n",
       "      <td>1.00</td>\n",
       "      <td>1.00</td>\n",
       "      <td>1.00</td>\n",
       "    </tr>\n",
       "  </tbody>\n",
       "</table>\n",
       "</div>"
      ],
      "text/plain": [
       "   open   cls  high   low\n",
       "0   0.0  0.00  0.00  0.00\n",
       "1   0.2  0.25  0.25  0.25\n",
       "2   0.6  1.00  1.00  0.75\n",
       "3   1.0  0.75  1.00  0.75\n",
       "4   0.8  1.00  1.00  1.00"
      ]
     },
     "execution_count": 3,
     "metadata": {},
     "output_type": "execute_result"
    }
   ],
   "source": [
    "# data min-max scaling\n",
    "def custom_min_max_scaler(df):\n",
    "    df_scaled = df.copy()\n",
    "    \n",
    "    \n",
    "    for column in df_scaled.columns:\n",
    "        min_value = df_scaled[column].min()\n",
    "        max_value = df_scaled[column].max()\n",
    "        \n",
    "        df_scaled[column] = (df_scaled[column] - min_value) / (max_value - min_value)\n",
    "    \n",
    "    return df_scaled\n",
    "\n",
    "df = custom_min_max_scaler(df)\n",
    "df\n"
   ]
  },
  {
   "cell_type": "code",
   "execution_count": 29,
   "metadata": {},
   "outputs": [
    {
     "data": {
      "text/html": [
       "<div>\n",
       "<style scoped>\n",
       "    .dataframe tbody tr th:only-of-type {\n",
       "        vertical-align: middle;\n",
       "    }\n",
       "\n",
       "    .dataframe tbody tr th {\n",
       "        vertical-align: top;\n",
       "    }\n",
       "\n",
       "    .dataframe thead th {\n",
       "        text-align: right;\n",
       "    }\n",
       "</style>\n",
       "<table border=\"1\" class=\"dataframe\">\n",
       "  <thead>\n",
       "    <tr style=\"text-align: right;\">\n",
       "      <th></th>\n",
       "      <th>kline_start_time</th>\n",
       "      <th>kline_close_time</th>\n",
       "      <th>open_price</th>\n",
       "      <th>close_price</th>\n",
       "      <th>high_price</th>\n",
       "      <th>low_price</th>\n",
       "      <th>volume</th>\n",
       "    </tr>\n",
       "  </thead>\n",
       "  <tbody>\n",
       "    <tr>\n",
       "      <th>0</th>\n",
       "      <td>0.000000</td>\n",
       "      <td>0.000000</td>\n",
       "      <td>0.844444</td>\n",
       "      <td>0.800000</td>\n",
       "      <td>0.750000</td>\n",
       "      <td>0.837209</td>\n",
       "      <td>0.094407</td>\n",
       "    </tr>\n",
       "    <tr>\n",
       "      <th>86</th>\n",
       "      <td>0.003472</td>\n",
       "      <td>0.003472</td>\n",
       "      <td>0.822222</td>\n",
       "      <td>0.755556</td>\n",
       "      <td>0.750000</td>\n",
       "      <td>0.767442</td>\n",
       "      <td>0.071778</td>\n",
       "    </tr>\n",
       "    <tr>\n",
       "      <th>178</th>\n",
       "      <td>0.006944</td>\n",
       "      <td>0.006944</td>\n",
       "      <td>0.755556</td>\n",
       "      <td>0.777778</td>\n",
       "      <td>0.805556</td>\n",
       "      <td>0.813953</td>\n",
       "      <td>0.104133</td>\n",
       "    </tr>\n",
       "    <tr>\n",
       "      <th>277</th>\n",
       "      <td>0.010417</td>\n",
       "      <td>0.010417</td>\n",
       "      <td>0.777778</td>\n",
       "      <td>0.644444</td>\n",
       "      <td>0.694444</td>\n",
       "      <td>0.674419</td>\n",
       "      <td>0.361002</td>\n",
       "    </tr>\n",
       "    <tr>\n",
       "      <th>366</th>\n",
       "      <td>0.013889</td>\n",
       "      <td>0.013889</td>\n",
       "      <td>0.622222</td>\n",
       "      <td>0.688889</td>\n",
       "      <td>0.583333</td>\n",
       "      <td>0.674419</td>\n",
       "      <td>0.087662</td>\n",
       "    </tr>\n",
       "    <tr>\n",
       "      <th>...</th>\n",
       "      <td>...</td>\n",
       "      <td>...</td>\n",
       "      <td>...</td>\n",
       "      <td>...</td>\n",
       "      <td>...</td>\n",
       "      <td>...</td>\n",
       "      <td>...</td>\n",
       "    </tr>\n",
       "    <tr>\n",
       "      <th>24823</th>\n",
       "      <td>0.986111</td>\n",
       "      <td>0.986111</td>\n",
       "      <td>0.355556</td>\n",
       "      <td>0.311111</td>\n",
       "      <td>0.166667</td>\n",
       "      <td>0.325581</td>\n",
       "      <td>0.076512</td>\n",
       "    </tr>\n",
       "    <tr>\n",
       "      <th>24895</th>\n",
       "      <td>0.989583</td>\n",
       "      <td>0.989583</td>\n",
       "      <td>0.311111</td>\n",
       "      <td>0.377778</td>\n",
       "      <td>0.222222</td>\n",
       "      <td>0.325581</td>\n",
       "      <td>0.056488</td>\n",
       "    </tr>\n",
       "    <tr>\n",
       "      <th>24958</th>\n",
       "      <td>0.993056</td>\n",
       "      <td>0.993056</td>\n",
       "      <td>0.355556</td>\n",
       "      <td>0.377778</td>\n",
       "      <td>0.250000</td>\n",
       "      <td>0.395349</td>\n",
       "      <td>0.093800</td>\n",
       "    </tr>\n",
       "    <tr>\n",
       "      <th>25030</th>\n",
       "      <td>0.996528</td>\n",
       "      <td>0.996528</td>\n",
       "      <td>0.377778</td>\n",
       "      <td>0.377778</td>\n",
       "      <td>0.250000</td>\n",
       "      <td>0.395349</td>\n",
       "      <td>0.050422</td>\n",
       "    </tr>\n",
       "    <tr>\n",
       "      <th>25101</th>\n",
       "      <td>1.000000</td>\n",
       "      <td>1.000000</td>\n",
       "      <td>0.377778</td>\n",
       "      <td>0.377778</td>\n",
       "      <td>0.222222</td>\n",
       "      <td>0.348837</td>\n",
       "      <td>0.074263</td>\n",
       "    </tr>\n",
       "  </tbody>\n",
       "</table>\n",
       "<p>289 rows × 7 columns</p>\n",
       "</div>"
      ],
      "text/plain": [
       "       kline_start_time  kline_close_time  open_price  close_price  \\\n",
       "0              0.000000          0.000000    0.844444     0.800000   \n",
       "86             0.003472          0.003472    0.822222     0.755556   \n",
       "178            0.006944          0.006944    0.755556     0.777778   \n",
       "277            0.010417          0.010417    0.777778     0.644444   \n",
       "366            0.013889          0.013889    0.622222     0.688889   \n",
       "...                 ...               ...         ...          ...   \n",
       "24823          0.986111          0.986111    0.355556     0.311111   \n",
       "24895          0.989583          0.989583    0.311111     0.377778   \n",
       "24958          0.993056          0.993056    0.355556     0.377778   \n",
       "25030          0.996528          0.996528    0.377778     0.377778   \n",
       "25101          1.000000          1.000000    0.377778     0.377778   \n",
       "\n",
       "       high_price  low_price    volume  \n",
       "0        0.750000   0.837209  0.094407  \n",
       "86       0.750000   0.767442  0.071778  \n",
       "178      0.805556   0.813953  0.104133  \n",
       "277      0.694444   0.674419  0.361002  \n",
       "366      0.583333   0.674419  0.087662  \n",
       "...           ...        ...       ...  \n",
       "24823    0.166667   0.325581  0.076512  \n",
       "24895    0.222222   0.325581  0.056488  \n",
       "24958    0.250000   0.395349  0.093800  \n",
       "25030    0.250000   0.395349  0.050422  \n",
       "25101    0.222222   0.348837  0.074263  \n",
       "\n",
       "[289 rows x 7 columns]"
      ]
     },
     "execution_count": 29,
     "metadata": {},
     "output_type": "execute_result"
    }
   ],
   "source": [
    "scaler = MinMaxScaler()\n",
    "df = pd.DataFrame(scaler.fit_transform(df), columns=df.columns, index=df.index)\n",
    "df"
   ]
  },
  {
   "cell_type": "code",
   "execution_count": 30,
   "metadata": {},
   "outputs": [
    {
     "data": {
      "text/html": [
       "<div>\n",
       "<style scoped>\n",
       "    .dataframe tbody tr th:only-of-type {\n",
       "        vertical-align: middle;\n",
       "    }\n",
       "\n",
       "    .dataframe tbody tr th {\n",
       "        vertical-align: top;\n",
       "    }\n",
       "\n",
       "    .dataframe thead th {\n",
       "        text-align: right;\n",
       "    }\n",
       "</style>\n",
       "<table border=\"1\" class=\"dataframe\">\n",
       "  <thead>\n",
       "    <tr style=\"text-align: right;\">\n",
       "      <th></th>\n",
       "      <th>kline_start_time</th>\n",
       "      <th>kline_close_time</th>\n",
       "      <th>open_price</th>\n",
       "      <th>close_price</th>\n",
       "      <th>high_price</th>\n",
       "      <th>low_price</th>\n",
       "      <th>volume</th>\n",
       "    </tr>\n",
       "  </thead>\n",
       "  <tbody>\n",
       "    <tr>\n",
       "      <th>count</th>\n",
       "      <td>289.000000</td>\n",
       "      <td>289.000000</td>\n",
       "      <td>289.000000</td>\n",
       "      <td>289.000000</td>\n",
       "      <td>289.000000</td>\n",
       "      <td>289.000000</td>\n",
       "      <td>289.000000</td>\n",
       "    </tr>\n",
       "    <tr>\n",
       "      <th>mean</th>\n",
       "      <td>0.500000</td>\n",
       "      <td>0.500000</td>\n",
       "      <td>0.623914</td>\n",
       "      <td>0.622145</td>\n",
       "      <td>0.535179</td>\n",
       "      <td>0.620987</td>\n",
       "      <td>0.133648</td>\n",
       "    </tr>\n",
       "    <tr>\n",
       "      <th>std</th>\n",
       "      <td>0.290178</td>\n",
       "      <td>0.290178</td>\n",
       "      <td>0.192941</td>\n",
       "      <td>0.192588</td>\n",
       "      <td>0.237415</td>\n",
       "      <td>0.204484</td>\n",
       "      <td>0.131587</td>\n",
       "    </tr>\n",
       "    <tr>\n",
       "      <th>min</th>\n",
       "      <td>0.000000</td>\n",
       "      <td>0.000000</td>\n",
       "      <td>0.000000</td>\n",
       "      <td>0.000000</td>\n",
       "      <td>0.000000</td>\n",
       "      <td>0.000000</td>\n",
       "      <td>0.000000</td>\n",
       "    </tr>\n",
       "    <tr>\n",
       "      <th>25%</th>\n",
       "      <td>0.250000</td>\n",
       "      <td>0.250000</td>\n",
       "      <td>0.488889</td>\n",
       "      <td>0.488889</td>\n",
       "      <td>0.361111</td>\n",
       "      <td>0.488372</td>\n",
       "      <td>0.060306</td>\n",
       "    </tr>\n",
       "    <tr>\n",
       "      <th>50%</th>\n",
       "      <td>0.500000</td>\n",
       "      <td>0.500000</td>\n",
       "      <td>0.644444</td>\n",
       "      <td>0.644444</td>\n",
       "      <td>0.555556</td>\n",
       "      <td>0.651163</td>\n",
       "      <td>0.095984</td>\n",
       "    </tr>\n",
       "    <tr>\n",
       "      <th>75%</th>\n",
       "      <td>0.750000</td>\n",
       "      <td>0.750000</td>\n",
       "      <td>0.777778</td>\n",
       "      <td>0.777778</td>\n",
       "      <td>0.722222</td>\n",
       "      <td>0.790698</td>\n",
       "      <td>0.159051</td>\n",
       "    </tr>\n",
       "    <tr>\n",
       "      <th>max</th>\n",
       "      <td>1.000000</td>\n",
       "      <td>1.000000</td>\n",
       "      <td>1.000000</td>\n",
       "      <td>1.000000</td>\n",
       "      <td>1.000000</td>\n",
       "      <td>1.000000</td>\n",
       "      <td>1.000000</td>\n",
       "    </tr>\n",
       "  </tbody>\n",
       "</table>\n",
       "</div>"
      ],
      "text/plain": [
       "       kline_start_time  kline_close_time  open_price  close_price  \\\n",
       "count        289.000000        289.000000  289.000000   289.000000   \n",
       "mean           0.500000          0.500000    0.623914     0.622145   \n",
       "std            0.290178          0.290178    0.192941     0.192588   \n",
       "min            0.000000          0.000000    0.000000     0.000000   \n",
       "25%            0.250000          0.250000    0.488889     0.488889   \n",
       "50%            0.500000          0.500000    0.644444     0.644444   \n",
       "75%            0.750000          0.750000    0.777778     0.777778   \n",
       "max            1.000000          1.000000    1.000000     1.000000   \n",
       "\n",
       "       high_price   low_price      volume  \n",
       "count  289.000000  289.000000  289.000000  \n",
       "mean     0.535179    0.620987    0.133648  \n",
       "std      0.237415    0.204484    0.131587  \n",
       "min      0.000000    0.000000    0.000000  \n",
       "25%      0.361111    0.488372    0.060306  \n",
       "50%      0.555556    0.651163    0.095984  \n",
       "75%      0.722222    0.790698    0.159051  \n",
       "max      1.000000    1.000000    1.000000  "
      ]
     },
     "execution_count": 30,
     "metadata": {},
     "output_type": "execute_result"
    }
   ],
   "source": [
    "df.describe()"
   ]
  },
  {
   "cell_type": "code",
   "execution_count": 31,
   "metadata": {},
   "outputs": [],
   "source": [
    "z_f_values = []\n",
    "W_f_values = []\n",
    "for i in range(0,len(df)):\n",
    "    x = df.iloc[i].values.reshape(-1, 1) # x --> example input column vector (input_size = 4)\n",
    "    hidden_size = 1 # 1 layer of lstm unit\n",
    "    input_size = 7\n",
    "\n",
    "    C= np.zeros((hidden_size, 1)) # C--> Cell state at the beginning it is zero\n",
    "    h = np.zeros((hidden_size, 1)) # h --> hidden state at the beginning it is zero\n",
    "\n",
    "    concat = np.vstack((h, x))\n",
    "    W_f = np.random.randn(hidden_size, input_size + hidden_size) # W_f --> weight of forget gate\n",
    "    b_f = np.zeros((hidden_size, 1)) # b_f --> bias of the forget gate which is 0 \n",
    "    z_f = np.dot(W_f,concat)\n",
    "    z_f_values.append(z_f)\n",
    "    W_f_values.append(W_f)\n",
    "    \n",
    "z_f_values = np.array(z_f_values)\n",
    "W_f_values = np.array(W_f_values)"
   ]
  },
  {
   "cell_type": "code",
   "execution_count": 6,
   "metadata": {},
   "outputs": [],
   "source": [
    "z_f_values = []\n",
    "W_f_values = []\n",
    "for i in range(0,len(df)):\n",
    "    x = df.iloc[i].values.reshape(-1, 1) # x --> example input column vector (input_size = 4)\n",
    "    hidden_size = 1 # 1 layer of lstm unit\n",
    "    input_size = 4\n",
    "\n",
    "    C= np.zeros((hidden_size, 1)) # C--> Cell state at the beginning it is zero\n",
    "    h = np.zeros((hidden_size, 1)) # h --> hidden state at the beginning it is zero\n",
    "\n",
    "    concat = np.vstack((h, x))\n",
    "    W_f = np.random.randn(hidden_size, input_size + hidden_size) # W_f --> weight of forget gate\n",
    "    b_f = np.zeros((hidden_size, 1)) # b_f --> bias of the forget gate which is 0 \n",
    "    z_f = np.dot(W_f,concat)\n",
    "    z_f_values.append(z_f)\n",
    "    W_f_values.append(W_f)\n",
    "    \n",
    "z_f_values = np.array(z_f_values)\n",
    "W_f_values = np.array(W_f_values)"
   ]
  },
  {
   "cell_type": "code",
   "execution_count": 32,
   "metadata": {},
   "outputs": [
    {
     "data": {
      "application/vnd.plotly.v1+json": {
       "config": {
        "plotlyServerURL": "https://plot.ly"
       },
       "data": [
        {
         "mode": "markers",
         "name": "Data Points",
         "type": "scatter",
         "x": [
          1.0291841137856843,
          -1.1899435932703828,
          -1.0587092374857314,
          -2.76933242905047,
          0.5835549958399705,
          1.4684796047816846,
          -0.10889919590232384,
          0.2588760210967278,
          -0.05104837219682712,
          -2.4142671949094385,
          1.0916424719141484,
          -1.2615835975048093,
          -0.11608768717085591,
          0.1927736459261358,
          0.45832353162365386,
          -0.6650461495593033,
          0.3458118736216171,
          0.39580910489397625,
          -0.6112365448511123,
          0.9884933100628435,
          0.4690127484357294,
          1.2719418753260134,
          -0.15774717135305305,
          0.2676438625303573,
          1.159638557803053,
          0.9136484595682626,
          -0.2269177629007639,
          0.3973768310654329,
          -0.5124996535393219,
          0.07184651128466785,
          1.0732121694879164,
          -0.2783030081504408,
          -0.372236275625364,
          -0.880700235296847,
          -0.9258615405777386,
          0.24512413686408335,
          0.802516404431235,
          0.6484071514760839,
          0.4741327863689272,
          1.3762520744147544,
          -0.867467155708465,
          0.8400447547130402,
          0.9834655037190676,
          0.2577786561384796,
          -0.8741994063138666,
          -3.3839935671816512,
          -1.2416641215599507,
          -0.39921765287140837,
          -1.9425174170379256,
          -0.5151292584111673,
          0.29495691477962044,
          0.4394906502706915,
          1.3912401057079624,
          0.9082909929105791,
          -0.5674995487422341,
          -0.07277587378152037,
          -0.8425013029549195,
          -0.35451606687071724,
          1.3243553952129195,
          -1.975800329266821,
          -0.8527801563108519,
          0.4582132054636325,
          -0.7304385345712536,
          1.6532714128720838,
          -0.7895676723188272,
          -0.3627902870918135,
          0.19851436733338979,
          2.4997339044441276,
          -1.4823242999818733,
          -1.5116023016907758,
          1.4113380868721965,
          0.24027027542895368,
          -2.0943790635498396,
          1.696125245172561,
          -0.6515077036407882,
          -0.055985239235923606,
          -0.7839496507800563,
          1.7722853765325897,
          -1.1479477440404773,
          -0.9632292340302383,
          0.08267956546277977,
          3.0079874279573913,
          0.28299771846984934,
          1.3112387576403262,
          0.6131801537462603,
          0.736019162979819,
          -1.5316365887927441,
          1.066275202683796,
          -0.6102961557804139,
          -0.6966996882622565,
          -1.5420027057971375,
          -0.22300961708745462,
          -1.7694758781547608,
          -2.066698844984007,
          -0.2826617098253767,
          -0.11484089763696753,
          -0.04670564882172825,
          2.3114707669852663,
          0.24575583781566607,
          -1.6015611837262795,
          0.7742125964205284,
          -1.1191634519315075,
          1.4219285204474648,
          0.17427246349666126,
          0.10344752394697151,
          -2.925461353145043,
          -1.1493629255873896,
          1.5574733738094568,
          0.09684969874569746,
          -1.2365153990465876,
          -0.9979004395691176,
          1.5744518554940596,
          -0.2745595275267988,
          -0.11076543953909768,
          0.9402470473874528,
          0.6123404070151283,
          -1.564810466392214,
          -1.1354768496325225,
          -0.10224643857929686,
          1.825100271969735,
          -1.3369217518111658,
          -1.0539913348229797,
          -0.9988774515761089,
          -1.2324158624117296,
          -0.7681108256253181,
          1.1015668966678074,
          0.8617628891562904,
          0.05122850102937211,
          -0.5526402254805363,
          0.7506565645529721,
          -0.899553466723212,
          -0.7006672516919861,
          0.43909365201958933,
          -2.029775651048934,
          -1.1783646292120273,
          1.0172375287798034,
          -2.354155414281207,
          0.8121540999966307,
          -1.1882476260572952,
          0.5792510552122103,
          0.7583399425814368,
          2.8262889277203995,
          1.572514500938142,
          -1.9078532196947475,
          0.6273139150962082,
          -2.621670870825794,
          -1.1000970685481533,
          -0.34820399010376857,
          2.5959027655152513,
          -2.185420186156234,
          -1.4399055731197121,
          2.1859142022396627,
          -0.16129516859733606,
          -0.3294296496286867,
          -3.203897588441496,
          0.04114089483115024,
          -2.0174665241426597,
          0.6029717409294694,
          0.8102769004766672,
          2.0565003917045024,
          -2.4757705031837234,
          -0.4394799592718805,
          -3.6900989683043064,
          1.1900676500027774,
          -0.9901287808521706,
          0.8871881550729871,
          -2.5376145901792517,
          2.8226333315786367,
          0.9326888736963832,
          -0.9499099094379017,
          -1.9775669948143555,
          0.2602073610899536,
          -1.190416107706572,
          3.9195900943055335,
          2.5691083903297622,
          2.41154322238153,
          -2.2740920207356328,
          1.4255945824720804,
          0.17311768102331604,
          3.402314552104019,
          -2.0855109610613436,
          -0.7344662271370026,
          -1.0612754634927968,
          -1.0222428289363372,
          -2.433188484504288,
          0.592524545574878,
          -1.5268977284022576,
          1.254171542911839,
          3.5624716748697085,
          0.990387209073069,
          2.4478087465087413,
          2.739679349425955,
          -0.6942371492591848,
          1.0956842124101698,
          -0.2763412898719846,
          1.280454534765427,
          0.5641556447408117,
          -0.04771959637981954,
          1.9831379494521415,
          -2.1606647061289075,
          3.9886614845819817,
          0.08449703978866774,
          -0.16835444561063173,
          -0.7431831986988418,
          -0.9758343614927134,
          -1.217671780790553,
          -1.485908818562671,
          -3.5561856049243836,
          3.711026892684318,
          -1.457608733311473,
          1.7439506299766707,
          0.29308302841965217,
          -1.3461133605468638,
          1.1394807526665025,
          -0.2325446576306232,
          0.7756446407053408,
          -1.5786311363761474,
          -0.6100793006538099,
          -0.01929137890822294,
          -4.223022450588943,
          1.7909497056157635,
          -0.2900129859418089,
          0.843837297052855,
          -2.787807955189942,
          -0.09026332574985041,
          -1.2197281112834177,
          -2.500775651839592,
          0.9731230997994154,
          1.3297737081808412,
          3.686806920006732,
          -2.6983274239218655,
          0.4139136160371551,
          0.4691968688822228,
          0.7706920302253896,
          1.8820369535420058,
          2.775892853363312,
          -0.9436578582036523,
          0.8773246584508106,
          -3.8814295898703555,
          0.08357028760390911,
          -0.9769508924207644,
          -0.2512279259707915,
          -1.3807984848673522,
          -0.32118451833804346,
          -2.2057373630703405,
          0.8611432730592692,
          2.45007718385719,
          -0.43302744723423514,
          -0.5904567193505147,
          -1.3329980414855567,
          0.05970298292108346,
          2.115982996707327,
          -3.2708521639112824,
          0.6063595917803181,
          -0.4280597045513741,
          1.5441757898491382,
          -2.247451487674084,
          0.5543721541952666,
          0.7100763359463905,
          2.566028611092931,
          2.1656204833990125,
          0.17795667002283042,
          0.3193832738917164,
          2.134442428350663,
          -0.06455834976220201,
          -2.499223590311298,
          -0.15885147995920446,
          -1.3439030776392216,
          0.05431257546339996,
          -0.8021108355509801,
          0.9628373391040802,
          -1.4933126536005705,
          0.475393889590327,
          -2.9895308631019457,
          1.7033275707449187,
          1.4430470228881556,
          -0.4369719593411889,
          0.3442904972264752,
          -3.492299504007482,
          -0.24562910000716195,
          1.423562884192665,
          0.9377620458941357,
          -1.052336961201276,
          -1.7804076035891971,
          -1.3438605091683555,
          -1.1834457477022322,
          0.7621401538928775,
          0.32250676823020313,
          0.19553934874259177
         ],
         "y": [
          2.7987814157388486,
          0.30423842467727247,
          0.3469032912365442,
          0.06270385004195754,
          1.7923990892999297,
          4.342627609053808,
          0.8968208161550311,
          1.2954731835269155,
          0.9502327045772814,
          0.08943285176378533,
          2.9791632482599795,
          0.28320518817460116,
          0.8903971434677741,
          1.2126082836270748,
          1.5814205598659687,
          0.5142497947576038,
          1.4131367425120416,
          1.485585699441994,
          0.5426794065872969,
          2.6871826696229473,
          1.5984153759204405,
          3.567774012207278,
          0.8540656869458844,
          1.3068816276106716,
          3.188780507966827,
          2.493403038557643,
          0.796986321438434,
          1.4879165175878715,
          0.5989964223797761,
          1.0744904092537684,
          2.9247592496603425,
          0.7570673891668048,
          0.6891913841599613,
          0.4144925677127042,
          0.3961899382880108,
          1.2777799229526485,
          2.2311483418477476,
          1.9124920913651282,
          1.6066203101411745,
          3.9600318747558085,
          0.4200140332728669,
          2.3164706474402914,
          2.6737059431248746,
          1.2940523563765074,
          0.4171958904090184,
          0.033911755079947516,
          0.2889030478966316,
          0.6708446741927999,
          0.14334264197813293,
          0.5974233676319319,
          1.3430684910377444,
          1.5519165488906648,
          4.019831979881058,
          2.480080434483895,
          0.5669412768735216,
          0.9298092012943819,
          0.4306320339978561,
          0.7015128463847111,
          3.759761013765122,
          0.13865030193199057,
          0.42622830190113997,
          1.5812460974322822,
          0.4816977026696552,
          5.224041901338954,
          0.4540410473698608,
          0.6957323222498016,
          1.2195895495380344,
          12.179252684464814,
          0.22710920452426325,
          0.22055629695568893,
          4.10143981671844,
          1.2715927841666155,
          0.12314668618470333,
          5.45277822679363,
          0.5212592794941185,
          0.9455530928735137,
          0.4565990384499881,
          5.8842858151418636,
          0.3172872563305692,
          0.381658429484976,
          1.0861936988028167,
          20.24661113029608,
          1.3271021339901714,
          3.710767607986869,
          1.846293569951483,
          2.08760852200287,
          0.21618157729855897,
          2.9045405013081322,
          0.5431899763996543,
          0.498226897493758,
          0.21395218878862504,
          0.8001071545570753,
          0.17042228746545748,
          0.1266030288510991,
          0.7537747393216904,
          0.8915079736490785,
          0.9543682756763959,
          10.089252687809335,
          1.2785873527461253,
          0.20158156634903066,
          2.16888366788468,
          0.32655285755422897,
          4.1451066599328295,
          1.1903798566977544,
          1.1089875965461873,
          0.053639939248637185,
          0.316838554832266,
          4.746812659735377,
          1.1016947750699357,
          0.29039436541908153,
          0.36865263769184003,
          4.8280943992282195,
          0.7599067675320523,
          0.8951486907955271,
          2.560613933177951,
          1.8447438017588644,
          0.20912764613453488,
          0.321268887851517,
          0.9028070377682313,
          6.203417016763237,
          0.26265293638326737,
          0.348543814068527,
          0.36829263553026004,
          0.2915872913096567,
          0.4638886074977236,
          3.0088769314677055,
          2.3673303583156975,
          1.052563377621964,
          0.5754285419197096,
          2.118390420177124,
          0.40675124716240163,
          0.4962540669287074,
          1.5513005630156464,
          0.131364989440367,
          0.30778166439699517,
          2.765544464971353,
          0.09497368608953577,
          2.2527554243213026,
          0.3047548408591621,
          1.784701287362359,
          2.1347295038851577,
          16.8826915373294,
          4.818749723445389,
          0.14839862412380803,
          1.8725739253005798,
          0.07268132021718071,
          0.33283877395341815,
          0.7059548537214356,
          13.408686799155614,
          0.11243048199566508,
          0.2369501320875365,
          8.89878012057305,
          0.8510408335011491,
          0.7193338888052512,
          0.04060363889474153,
          1.0419989074635467,
          0.13299197058254122,
          1.827541719171909,
          2.248530519655348,
          7.818559979094999,
          0.08409816738168843,
          0.6443714333549597,
          0.024969530727871808,
          3.287303585957798,
          0.37152884214020515,
          2.428292061958813,
          0.07905475303578936,
          16.821087902889886,
          2.5413333232000004,
          0.38677586674019276,
          0.1384055694642746,
          1.2971990473871668,
          0.30409470158786034,
          50.37978958237769,
          13.054180017425107,
          11.151156587882934,
          0.10289028828365429,
          4.16033076725664,
          1.1890060202963855,
          30.033533841276334,
          0.12424362029208989,
          0.47976147429749133,
          0.34601420028073,
          0.3597870936763521,
          0.08775657554092849,
          1.808548419916828,
          0.21720846282423092,
          3.5049334842317816,
          35.25021663346861,
          2.692276744530312,
          11.562981514962615,
          15.48201998175453,
          0.49945531255044123,
          2.9912286191290995,
          0.7585539997810156,
          3.598274894955783,
          1.7579628107433807,
          0.9534010867160594,
          7.26550604252653,
          0.11524848919494098,
          53.98258446190244,
          1.088169623015187,
          0.8450542558238665,
          0.47559758180209527,
          0.376877770044435,
          0.2959183282542148,
          0.22629658465638083,
          0.028547508777332385,
          40.89578054975934,
          0.23279227810862418,
          5.719896037570778,
          1.3405540898986505,
          0.2602497946472668,
          3.1251452204933146,
          0.7925143567431021,
          2.171991830327656,
          0.2062572430891133,
          0.5433077827037452,
          0.9808935089193019,
          0.01465428564815656,
          5.995143384946706,
          0.7482538507345102,
          2.3252726408658204,
          0.061555999642395935,
          0.913690555339974,
          0.2953104475884044,
          0.08202135392996614,
          2.6461959014978063,
          3.7801878651847987,
          39.917184484346016,
          0.06731801312918036,
          1.5127264459350065,
          1.5987097039682112,
          2.1612613945939567,
          6.56686765220358,
          16.052953532508205,
          0.3892015842288385,
          2.40445834652256,
          0.020621324063492544,
          1.0871616265932575,
          0.3764572091863788,
          0.7778450602623146,
          0.25137775157133174,
          0.7252894094459797,
          0.11016926060311691,
          2.3658639766624714,
          11.58924118704043,
          0.6485426908575364,
          0.5540741705425251,
          0.2636855349057676,
          1.0615212097885374,
          8.297738407986003,
          0.037974053165521916,
          1.8337436576294954,
          0.6517724998523421,
          4.6841093451046945,
          0.1056681783552617,
          1.740847657691018,
          2.0341465312207934,
          13.01403787105719,
          8.720010860576007,
          1.1947735506025283,
          1.3762787155314427,
          8.452332411837201,
          0.9374814108487078,
          0.08214875495944306,
          0.8531230554314131,
          0.26082565649445144,
          1.0558145723113108,
          0.44838150488278916,
          2.6191172646272642,
          0.22462730921928026,
          1.608647702296555,
          0.050311033950399583,
          5.492192678332685,
          4.233575986875766,
          0.6459895451290935,
          1.4109884642131876,
          0.03043081587166869,
          0.782212293663023,
          4.1518868110851965,
          2.5542587033783843,
          0.34912091299752823,
          0.16856942376141884,
          0.2608367596801322,
          0.30622175568768617,
          2.142857361098541,
          1.3805842349398687,
          1.2159666397391358
         ]
        }
       ],
       "layout": {
        "template": {
         "data": {
          "bar": [
           {
            "error_x": {
             "color": "#2a3f5f"
            },
            "error_y": {
             "color": "#2a3f5f"
            },
            "marker": {
             "line": {
              "color": "#E5ECF6",
              "width": 0.5
             },
             "pattern": {
              "fillmode": "overlay",
              "size": 10,
              "solidity": 0.2
             }
            },
            "type": "bar"
           }
          ],
          "barpolar": [
           {
            "marker": {
             "line": {
              "color": "#E5ECF6",
              "width": 0.5
             },
             "pattern": {
              "fillmode": "overlay",
              "size": 10,
              "solidity": 0.2
             }
            },
            "type": "barpolar"
           }
          ],
          "carpet": [
           {
            "aaxis": {
             "endlinecolor": "#2a3f5f",
             "gridcolor": "white",
             "linecolor": "white",
             "minorgridcolor": "white",
             "startlinecolor": "#2a3f5f"
            },
            "baxis": {
             "endlinecolor": "#2a3f5f",
             "gridcolor": "white",
             "linecolor": "white",
             "minorgridcolor": "white",
             "startlinecolor": "#2a3f5f"
            },
            "type": "carpet"
           }
          ],
          "choropleth": [
           {
            "colorbar": {
             "outlinewidth": 0,
             "ticks": ""
            },
            "type": "choropleth"
           }
          ],
          "contour": [
           {
            "colorbar": {
             "outlinewidth": 0,
             "ticks": ""
            },
            "colorscale": [
             [
              0,
              "#0d0887"
             ],
             [
              0.1111111111111111,
              "#46039f"
             ],
             [
              0.2222222222222222,
              "#7201a8"
             ],
             [
              0.3333333333333333,
              "#9c179e"
             ],
             [
              0.4444444444444444,
              "#bd3786"
             ],
             [
              0.5555555555555556,
              "#d8576b"
             ],
             [
              0.6666666666666666,
              "#ed7953"
             ],
             [
              0.7777777777777778,
              "#fb9f3a"
             ],
             [
              0.8888888888888888,
              "#fdca26"
             ],
             [
              1,
              "#f0f921"
             ]
            ],
            "type": "contour"
           }
          ],
          "contourcarpet": [
           {
            "colorbar": {
             "outlinewidth": 0,
             "ticks": ""
            },
            "type": "contourcarpet"
           }
          ],
          "heatmap": [
           {
            "colorbar": {
             "outlinewidth": 0,
             "ticks": ""
            },
            "colorscale": [
             [
              0,
              "#0d0887"
             ],
             [
              0.1111111111111111,
              "#46039f"
             ],
             [
              0.2222222222222222,
              "#7201a8"
             ],
             [
              0.3333333333333333,
              "#9c179e"
             ],
             [
              0.4444444444444444,
              "#bd3786"
             ],
             [
              0.5555555555555556,
              "#d8576b"
             ],
             [
              0.6666666666666666,
              "#ed7953"
             ],
             [
              0.7777777777777778,
              "#fb9f3a"
             ],
             [
              0.8888888888888888,
              "#fdca26"
             ],
             [
              1,
              "#f0f921"
             ]
            ],
            "type": "heatmap"
           }
          ],
          "heatmapgl": [
           {
            "colorbar": {
             "outlinewidth": 0,
             "ticks": ""
            },
            "colorscale": [
             [
              0,
              "#0d0887"
             ],
             [
              0.1111111111111111,
              "#46039f"
             ],
             [
              0.2222222222222222,
              "#7201a8"
             ],
             [
              0.3333333333333333,
              "#9c179e"
             ],
             [
              0.4444444444444444,
              "#bd3786"
             ],
             [
              0.5555555555555556,
              "#d8576b"
             ],
             [
              0.6666666666666666,
              "#ed7953"
             ],
             [
              0.7777777777777778,
              "#fb9f3a"
             ],
             [
              0.8888888888888888,
              "#fdca26"
             ],
             [
              1,
              "#f0f921"
             ]
            ],
            "type": "heatmapgl"
           }
          ],
          "histogram": [
           {
            "marker": {
             "pattern": {
              "fillmode": "overlay",
              "size": 10,
              "solidity": 0.2
             }
            },
            "type": "histogram"
           }
          ],
          "histogram2d": [
           {
            "colorbar": {
             "outlinewidth": 0,
             "ticks": ""
            },
            "colorscale": [
             [
              0,
              "#0d0887"
             ],
             [
              0.1111111111111111,
              "#46039f"
             ],
             [
              0.2222222222222222,
              "#7201a8"
             ],
             [
              0.3333333333333333,
              "#9c179e"
             ],
             [
              0.4444444444444444,
              "#bd3786"
             ],
             [
              0.5555555555555556,
              "#d8576b"
             ],
             [
              0.6666666666666666,
              "#ed7953"
             ],
             [
              0.7777777777777778,
              "#fb9f3a"
             ],
             [
              0.8888888888888888,
              "#fdca26"
             ],
             [
              1,
              "#f0f921"
             ]
            ],
            "type": "histogram2d"
           }
          ],
          "histogram2dcontour": [
           {
            "colorbar": {
             "outlinewidth": 0,
             "ticks": ""
            },
            "colorscale": [
             [
              0,
              "#0d0887"
             ],
             [
              0.1111111111111111,
              "#46039f"
             ],
             [
              0.2222222222222222,
              "#7201a8"
             ],
             [
              0.3333333333333333,
              "#9c179e"
             ],
             [
              0.4444444444444444,
              "#bd3786"
             ],
             [
              0.5555555555555556,
              "#d8576b"
             ],
             [
              0.6666666666666666,
              "#ed7953"
             ],
             [
              0.7777777777777778,
              "#fb9f3a"
             ],
             [
              0.8888888888888888,
              "#fdca26"
             ],
             [
              1,
              "#f0f921"
             ]
            ],
            "type": "histogram2dcontour"
           }
          ],
          "mesh3d": [
           {
            "colorbar": {
             "outlinewidth": 0,
             "ticks": ""
            },
            "type": "mesh3d"
           }
          ],
          "parcoords": [
           {
            "line": {
             "colorbar": {
              "outlinewidth": 0,
              "ticks": ""
             }
            },
            "type": "parcoords"
           }
          ],
          "pie": [
           {
            "automargin": true,
            "type": "pie"
           }
          ],
          "scatter": [
           {
            "fillpattern": {
             "fillmode": "overlay",
             "size": 10,
             "solidity": 0.2
            },
            "type": "scatter"
           }
          ],
          "scatter3d": [
           {
            "line": {
             "colorbar": {
              "outlinewidth": 0,
              "ticks": ""
             }
            },
            "marker": {
             "colorbar": {
              "outlinewidth": 0,
              "ticks": ""
             }
            },
            "type": "scatter3d"
           }
          ],
          "scattercarpet": [
           {
            "marker": {
             "colorbar": {
              "outlinewidth": 0,
              "ticks": ""
             }
            },
            "type": "scattercarpet"
           }
          ],
          "scattergeo": [
           {
            "marker": {
             "colorbar": {
              "outlinewidth": 0,
              "ticks": ""
             }
            },
            "type": "scattergeo"
           }
          ],
          "scattergl": [
           {
            "marker": {
             "colorbar": {
              "outlinewidth": 0,
              "ticks": ""
             }
            },
            "type": "scattergl"
           }
          ],
          "scattermapbox": [
           {
            "marker": {
             "colorbar": {
              "outlinewidth": 0,
              "ticks": ""
             }
            },
            "type": "scattermapbox"
           }
          ],
          "scatterpolar": [
           {
            "marker": {
             "colorbar": {
              "outlinewidth": 0,
              "ticks": ""
             }
            },
            "type": "scatterpolar"
           }
          ],
          "scatterpolargl": [
           {
            "marker": {
             "colorbar": {
              "outlinewidth": 0,
              "ticks": ""
             }
            },
            "type": "scatterpolargl"
           }
          ],
          "scatterternary": [
           {
            "marker": {
             "colorbar": {
              "outlinewidth": 0,
              "ticks": ""
             }
            },
            "type": "scatterternary"
           }
          ],
          "surface": [
           {
            "colorbar": {
             "outlinewidth": 0,
             "ticks": ""
            },
            "colorscale": [
             [
              0,
              "#0d0887"
             ],
             [
              0.1111111111111111,
              "#46039f"
             ],
             [
              0.2222222222222222,
              "#7201a8"
             ],
             [
              0.3333333333333333,
              "#9c179e"
             ],
             [
              0.4444444444444444,
              "#bd3786"
             ],
             [
              0.5555555555555556,
              "#d8576b"
             ],
             [
              0.6666666666666666,
              "#ed7953"
             ],
             [
              0.7777777777777778,
              "#fb9f3a"
             ],
             [
              0.8888888888888888,
              "#fdca26"
             ],
             [
              1,
              "#f0f921"
             ]
            ],
            "type": "surface"
           }
          ],
          "table": [
           {
            "cells": {
             "fill": {
              "color": "#EBF0F8"
             },
             "line": {
              "color": "white"
             }
            },
            "header": {
             "fill": {
              "color": "#C8D4E3"
             },
             "line": {
              "color": "white"
             }
            },
            "type": "table"
           }
          ]
         },
         "layout": {
          "annotationdefaults": {
           "arrowcolor": "#2a3f5f",
           "arrowhead": 0,
           "arrowwidth": 1
          },
          "autotypenumbers": "strict",
          "coloraxis": {
           "colorbar": {
            "outlinewidth": 0,
            "ticks": ""
           }
          },
          "colorscale": {
           "diverging": [
            [
             0,
             "#8e0152"
            ],
            [
             0.1,
             "#c51b7d"
            ],
            [
             0.2,
             "#de77ae"
            ],
            [
             0.3,
             "#f1b6da"
            ],
            [
             0.4,
             "#fde0ef"
            ],
            [
             0.5,
             "#f7f7f7"
            ],
            [
             0.6,
             "#e6f5d0"
            ],
            [
             0.7,
             "#b8e186"
            ],
            [
             0.8,
             "#7fbc41"
            ],
            [
             0.9,
             "#4d9221"
            ],
            [
             1,
             "#276419"
            ]
           ],
           "sequential": [
            [
             0,
             "#0d0887"
            ],
            [
             0.1111111111111111,
             "#46039f"
            ],
            [
             0.2222222222222222,
             "#7201a8"
            ],
            [
             0.3333333333333333,
             "#9c179e"
            ],
            [
             0.4444444444444444,
             "#bd3786"
            ],
            [
             0.5555555555555556,
             "#d8576b"
            ],
            [
             0.6666666666666666,
             "#ed7953"
            ],
            [
             0.7777777777777778,
             "#fb9f3a"
            ],
            [
             0.8888888888888888,
             "#fdca26"
            ],
            [
             1,
             "#f0f921"
            ]
           ],
           "sequentialminus": [
            [
             0,
             "#0d0887"
            ],
            [
             0.1111111111111111,
             "#46039f"
            ],
            [
             0.2222222222222222,
             "#7201a8"
            ],
            [
             0.3333333333333333,
             "#9c179e"
            ],
            [
             0.4444444444444444,
             "#bd3786"
            ],
            [
             0.5555555555555556,
             "#d8576b"
            ],
            [
             0.6666666666666666,
             "#ed7953"
            ],
            [
             0.7777777777777778,
             "#fb9f3a"
            ],
            [
             0.8888888888888888,
             "#fdca26"
            ],
            [
             1,
             "#f0f921"
            ]
           ]
          },
          "colorway": [
           "#636efa",
           "#EF553B",
           "#00cc96",
           "#ab63fa",
           "#FFA15A",
           "#19d3f3",
           "#FF6692",
           "#B6E880",
           "#FF97FF",
           "#FECB52"
          ],
          "font": {
           "color": "#2a3f5f"
          },
          "geo": {
           "bgcolor": "white",
           "lakecolor": "white",
           "landcolor": "#E5ECF6",
           "showlakes": true,
           "showland": true,
           "subunitcolor": "white"
          },
          "hoverlabel": {
           "align": "left"
          },
          "hovermode": "closest",
          "mapbox": {
           "style": "light"
          },
          "paper_bgcolor": "white",
          "plot_bgcolor": "#E5ECF6",
          "polar": {
           "angularaxis": {
            "gridcolor": "white",
            "linecolor": "white",
            "ticks": ""
           },
           "bgcolor": "#E5ECF6",
           "radialaxis": {
            "gridcolor": "white",
            "linecolor": "white",
            "ticks": ""
           }
          },
          "scene": {
           "xaxis": {
            "backgroundcolor": "#E5ECF6",
            "gridcolor": "white",
            "gridwidth": 2,
            "linecolor": "white",
            "showbackground": true,
            "ticks": "",
            "zerolinecolor": "white"
           },
           "yaxis": {
            "backgroundcolor": "#E5ECF6",
            "gridcolor": "white",
            "gridwidth": 2,
            "linecolor": "white",
            "showbackground": true,
            "ticks": "",
            "zerolinecolor": "white"
           },
           "zaxis": {
            "backgroundcolor": "#E5ECF6",
            "gridcolor": "white",
            "gridwidth": 2,
            "linecolor": "white",
            "showbackground": true,
            "ticks": "",
            "zerolinecolor": "white"
           }
          },
          "shapedefaults": {
           "line": {
            "color": "#2a3f5f"
           }
          },
          "ternary": {
           "aaxis": {
            "gridcolor": "white",
            "linecolor": "white",
            "ticks": ""
           },
           "baxis": {
            "gridcolor": "white",
            "linecolor": "white",
            "ticks": ""
           },
           "bgcolor": "#E5ECF6",
           "caxis": {
            "gridcolor": "white",
            "linecolor": "white",
            "ticks": ""
           }
          },
          "title": {
           "x": 0.05
          },
          "xaxis": {
           "automargin": true,
           "gridcolor": "white",
           "linecolor": "white",
           "ticks": "",
           "title": {
            "standoff": 15
           },
           "zerolinecolor": "white",
           "zerolinewidth": 2
          },
          "yaxis": {
           "automargin": true,
           "gridcolor": "white",
           "linecolor": "white",
           "ticks": "",
           "title": {
            "standoff": 15
           },
           "zerolinecolor": "white",
           "zerolinewidth": 2
          }
         }
        },
        "title": {
         "text": "Plot of y = e^x"
        },
        "xaxis": {
         "title": {
          "text": "X Axis"
         }
        },
        "yaxis": {
         "title": {
          "text": "Y Axis"
         }
        }
       }
      }
     },
     "metadata": {},
     "output_type": "display_data"
    }
   ],
   "source": [
    "x = z_f_values.flatten()\n",
    "y = np.exp(x)\n",
    "fig = go.Figure()\n",
    "fig.add_trace(go.Scatter(x=x, y=y, mode='markers', name='Data Points'))\n",
    "fig.update_layout(title='Plot of y = e^x', xaxis_title='X Axis', yaxis_title='Y Axis')\n",
    "fig.show()"
   ]
  },
  {
   "cell_type": "code",
   "execution_count": 33,
   "metadata": {},
   "outputs": [
    {
     "name": "stdout",
     "output_type": "stream",
     "text": [
      "Index of the lowest value in y: 219\n",
      "Lowest value in y: 0.01465428564815656\n"
     ]
    }
   ],
   "source": [
    "min_index = np.argmin(y)\n",
    "\n",
    "# Print the index and corresponding value\n",
    "print(f\"Index of the lowest value in y: {min_index}\")\n",
    "print(f\"Lowest value in y: {y[min_index]}\")"
   ]
  },
  {
   "cell_type": "code",
   "execution_count": 34,
   "metadata": {},
   "outputs": [
    {
     "name": "stdout",
     "output_type": "stream",
     "text": [
      "Index of the minimum value in z_f_values: 219\n",
      "Minimum value in z_f_values: [[-4.22302245]]\n"
     ]
    }
   ],
   "source": [
    "min_index = np.argmin(z_f_values)\n",
    "\n",
    "# Print the index and corresponding minimum value\n",
    "print(f\"Index of the minimum value in z_f_values: {min_index}\")\n",
    "print(f\"Minimum value in z_f_values: {z_f_values[min_index]}\")"
   ]
  },
  {
   "cell_type": "code",
   "execution_count": 35,
   "metadata": {},
   "outputs": [
    {
     "data": {
      "text/plain": [
       "kline_start_time    0.760417\n",
       "kline_close_time    0.760417\n",
       "open_price          0.777778\n",
       "close_price         0.777778\n",
       "high_price          0.750000\n",
       "low_price           0.790698\n",
       "volume              0.119055\n",
       "Name: 19429, dtype: float64"
      ]
     },
     "execution_count": 35,
     "metadata": {},
     "output_type": "execute_result"
    }
   ],
   "source": [
    "min_row = df.iloc[min_index]\n",
    "min_row"
   ]
  },
  {
   "cell_type": "code",
   "execution_count": 36,
   "metadata": {},
   "outputs": [
    {
     "name": "stdout",
     "output_type": "stream",
     "text": [
      "W_f value at index 219 in df:\n",
      "[[ 0.98253057 -2.8459199  -0.90923774 -0.46156481 -0.29687859 -1.28838151\n",
      "   0.22740706  0.07423704]]\n"
     ]
    }
   ],
   "source": [
    "W_f_at_min_index = W_f_values[min_index]\n",
    "\n",
    "print(f\"W_f value at index {min_index} in df:\")\n",
    "print(W_f_at_min_index)"
   ]
  },
  {
   "cell_type": "code",
   "execution_count": 37,
   "metadata": {},
   "outputs": [
    {
     "ename": "IndexError",
     "evalue": "index 219 is out of bounds for axis 0 with size 8",
     "output_type": "error",
     "traceback": [
      "\u001b[1;31m---------------------------------------------------------------------------\u001b[0m",
      "\u001b[1;31mIndexError\u001b[0m                                Traceback (most recent call last)",
      "Cell \u001b[1;32mIn[37], line 1\u001b[0m\n\u001b[1;32m----> 1\u001b[0m concat_at_min_index \u001b[38;5;241m=\u001b[39m \u001b[43mconcat\u001b[49m\u001b[43m[\u001b[49m\u001b[43mmin_index\u001b[49m\u001b[43m]\u001b[49m\n\u001b[0;32m      3\u001b[0m \u001b[38;5;28mprint\u001b[39m(\u001b[38;5;124mf\u001b[39m\u001b[38;5;124m\"\u001b[39m\u001b[38;5;124mconcat value at index \u001b[39m\u001b[38;5;132;01m{\u001b[39;00mmin_index\u001b[38;5;132;01m}\u001b[39;00m\u001b[38;5;124m in df:\u001b[39m\u001b[38;5;124m\"\u001b[39m)\n\u001b[0;32m      4\u001b[0m \u001b[38;5;28mprint\u001b[39m(concat_at_min_index)\n",
      "\u001b[1;31mIndexError\u001b[0m: index 219 is out of bounds for axis 0 with size 8"
     ]
    }
   ],
   "source": [
    "concat_at_min_index = concat[min_index]\n",
    "\n",
    "print(f\"concat value at index {min_index} in df:\")\n",
    "print(concat_at_min_index)"
   ]
  },
  {
   "cell_type": "code",
   "execution_count": 12,
   "metadata": {},
   "outputs": [
    {
     "data": {
      "application/vnd.plotly.v1+json": {
       "config": {
        "plotlyServerURL": "https://plot.ly"
       },
       "data": [
        {
         "mode": "markers",
         "name": "Data Points",
         "type": "scatter",
         "x": [
          -2,
          -1.9899749373433584,
          -1.9799498746867168,
          -1.9699248120300752,
          -1.9598997493734336,
          -1.949874686716792,
          -1.9398496240601504,
          -1.9298245614035088,
          -1.9197994987468672,
          -1.9097744360902256,
          -1.899749373433584,
          -1.8897243107769424,
          -1.8796992481203008,
          -1.8696741854636592,
          -1.8596491228070176,
          -1.849624060150376,
          -1.8395989974937343,
          -1.8295739348370927,
          -1.8195488721804511,
          -1.8095238095238095,
          -1.799498746867168,
          -1.7894736842105263,
          -1.7794486215538847,
          -1.7694235588972431,
          -1.7593984962406015,
          -1.74937343358396,
          -1.7393483709273183,
          -1.7293233082706767,
          -1.719298245614035,
          -1.7092731829573935,
          -1.699248120300752,
          -1.6892230576441103,
          -1.6791979949874687,
          -1.669172932330827,
          -1.6591478696741855,
          -1.6491228070175439,
          -1.6390977443609023,
          -1.6290726817042607,
          -1.619047619047619,
          -1.6090225563909775,
          -1.5989974937343359,
          -1.5889724310776943,
          -1.5789473684210527,
          -1.568922305764411,
          -1.5588972431077694,
          -1.5488721804511278,
          -1.5388471177944862,
          -1.5288220551378446,
          -1.518796992481203,
          -1.5087719298245614,
          -1.4987468671679198,
          -1.4887218045112782,
          -1.4786967418546366,
          -1.468671679197995,
          -1.4586466165413534,
          -1.4486215538847118,
          -1.4385964912280702,
          -1.4285714285714286,
          -1.418546365914787,
          -1.4085213032581454,
          -1.3984962406015038,
          -1.3884711779448622,
          -1.3784461152882206,
          -1.368421052631579,
          -1.3583959899749374,
          -1.3483709273182958,
          -1.3383458646616542,
          -1.3283208020050126,
          -1.318295739348371,
          -1.3082706766917294,
          -1.2982456140350878,
          -1.2882205513784462,
          -1.2781954887218046,
          -1.268170426065163,
          -1.2581453634085213,
          -1.2481203007518797,
          -1.2380952380952381,
          -1.2280701754385965,
          -1.218045112781955,
          -1.2080200501253133,
          -1.1979949874686717,
          -1.1879699248120301,
          -1.1779448621553885,
          -1.167919799498747,
          -1.1578947368421053,
          -1.1478696741854637,
          -1.137844611528822,
          -1.1278195488721805,
          -1.117794486215539,
          -1.1077694235588973,
          -1.0977443609022557,
          -1.087719298245614,
          -1.0776942355889725,
          -1.0676691729323309,
          -1.0576441102756893,
          -1.0476190476190477,
          -1.037593984962406,
          -1.0275689223057645,
          -1.0175438596491229,
          -1.0075187969924813,
          -0.9974937343358397,
          -0.987468671679198,
          -0.9774436090225564,
          -0.9674185463659148,
          -0.9573934837092732,
          -0.9473684210526316,
          -0.93734335839599,
          -0.9273182957393484,
          -0.9172932330827068,
          -0.9072681704260652,
          -0.8972431077694236,
          -0.887218045112782,
          -0.8771929824561404,
          -0.8671679197994988,
          -0.8571428571428572,
          -0.8471177944862156,
          -0.837092731829574,
          -0.8270676691729324,
          -0.8170426065162908,
          -0.8070175438596492,
          -0.7969924812030076,
          -0.786967418546366,
          -0.7769423558897244,
          -0.7669172932330828,
          -0.7568922305764412,
          -0.7468671679197996,
          -0.736842105263158,
          -0.7268170426065164,
          -0.7167919799498748,
          -0.7067669172932332,
          -0.6967418546365916,
          -0.68671679197995,
          -0.6766917293233083,
          -0.6666666666666667,
          -0.6566416040100251,
          -0.6466165413533835,
          -0.6365914786967419,
          -0.6265664160401003,
          -0.6165413533834587,
          -0.6065162907268171,
          -0.5964912280701755,
          -0.5864661654135339,
          -0.5764411027568923,
          -0.5664160401002507,
          -0.5563909774436091,
          -0.5463659147869675,
          -0.5363408521303259,
          -0.5263157894736843,
          -0.5162907268170427,
          -0.5062656641604011,
          -0.4962406015037595,
          -0.4862155388471179,
          -0.4761904761904763,
          -0.46616541353383467,
          -0.45614035087719307,
          -0.44611528822055146,
          -0.43609022556390986,
          -0.42606516290726826,
          -0.41604010025062665,
          -0.40601503759398505,
          -0.39598997493734345,
          -0.38596491228070184,
          -0.37593984962406024,
          -0.36591478696741864,
          -0.35588972431077703,
          -0.34586466165413543,
          -0.3358395989974938,
          -0.3258145363408522,
          -0.3157894736842106,
          -0.305764411027569,
          -0.2957393483709274,
          -0.2857142857142858,
          -0.2756892230576442,
          -0.2656641604010026,
          -0.255639097744361,
          -0.2456140350877194,
          -0.2355889724310778,
          -0.2255639097744362,
          -0.21553884711779459,
          -0.20551378446115298,
          -0.19548872180451138,
          -0.18546365914786977,
          -0.17543859649122817,
          -0.16541353383458657,
          -0.15538847117794496,
          -0.14536340852130336,
          -0.13533834586466176,
          -0.12531328320802015,
          -0.11528822055137855,
          -0.10526315789473695,
          -0.09523809523809534,
          -0.08521303258145374,
          -0.07518796992481214,
          -0.06516290726817053,
          -0.05513784461152893,
          -0.04511278195488733,
          -0.03508771929824572,
          -0.02506265664160412,
          -0.015037593984962516,
          -0.005012531328320913,
          0.005012531328320691,
          0.015037593984962072,
          0.025062656641603898,
          0.03508771929824572,
          0.045112781954887105,
          0.055137844611528486,
          0.06516290726817031,
          0.07518796992481214,
          0.08521303258145352,
          0.0952380952380949,
          0.10526315789473673,
          0.11528822055137855,
          0.12531328320801993,
          0.1353383458646613,
          0.14536340852130314,
          0.15538847117794496,
          0.16541353383458635,
          0.17543859649122773,
          0.18546365914786955,
          0.19548872180451138,
          0.20551378446115276,
          0.21553884711779414,
          0.22556390977443597,
          0.2355889724310778,
          0.24561403508771917,
          0.25563909774436055,
          0.2656641604010024,
          0.2756892230576442,
          0.2857142857142856,
          0.29573934837092697,
          0.3057644110275688,
          0.3157894736842106,
          0.325814536340852,
          0.3358395989974934,
          0.3458646616541352,
          0.35588972431077703,
          0.3659147869674184,
          0.3759398496240598,
          0.3859649122807016,
          0.39598997493734345,
          0.40601503759398483,
          0.4160401002506262,
          0.42606516290726804,
          0.43609022556390986,
          0.44611528822055124,
          0.4561403508771926,
          0.46616541353383445,
          0.4761904761904763,
          0.48621553884711766,
          0.49624060150375904,
          0.5062656641604009,
          0.5162907268170427,
          0.5263157894736841,
          0.5363408521303255,
          0.5463659147869673,
          0.5563909774436091,
          0.5664160401002505,
          0.5764411027568919,
          0.5864661654135337,
          0.5964912280701755,
          0.6065162907268169,
          0.6165413533834583,
          0.6265664160401001,
          0.6365914786967419,
          0.6466165413533833,
          0.6566416040100247,
          0.6666666666666665,
          0.6766917293233083,
          0.6867167919799497,
          0.6967418546365911,
          0.7067669172932329,
          0.7167919799498748,
          0.7268170426065161,
          0.7368421052631575,
          0.7468671679197993,
          0.7568922305764412,
          0.7669172932330826,
          0.7769423558897239,
          0.7869674185463658,
          0.7969924812030076,
          0.807017543859649,
          0.8170426065162903,
          0.8270676691729322,
          0.837092731829574,
          0.8471177944862154,
          0.8571428571428568,
          0.8671679197994986,
          0.8771929824561404,
          0.8872180451127818,
          0.8972431077694232,
          0.907268170426065,
          0.9172932330827068,
          0.9273182957393482,
          0.9373433583959896,
          0.9473684210526314,
          0.9573934837092732,
          0.9674185463659146,
          0.977443609022556,
          0.9874686716791978,
          0.9974937343358397,
          1.007518796992481,
          1.0175438596491224,
          1.0275689223057642,
          1.037593984962406,
          1.0476190476190474,
          1.0576441102756888,
          1.0676691729323307,
          1.0776942355889725,
          1.0877192982456139,
          1.0977443609022552,
          1.107769423558897,
          1.117794486215539,
          1.1278195488721803,
          1.1378446115288217,
          1.1478696741854635,
          1.1578947368421053,
          1.1679197994987467,
          1.177944862155388,
          1.18796992481203,
          1.1979949874686717,
          1.208020050125313,
          1.2180451127819545,
          1.2280701754385963,
          1.2380952380952381,
          1.2481203007518795,
          1.258145363408521,
          1.2681704260651627,
          1.2781954887218046,
          1.288220551378446,
          1.2982456140350873,
          1.3082706766917291,
          1.318295739348371,
          1.3283208020050123,
          1.3383458646616537,
          1.3483709273182956,
          1.3583959899749374,
          1.3684210526315788,
          1.3784461152882201,
          1.388471177944862,
          1.3984962406015038,
          1.4085213032581452,
          1.4185463659147866,
          1.4285714285714284,
          1.4385964912280702,
          1.4486215538847116,
          1.458646616541353,
          1.4686716791979948,
          1.4786967418546366,
          1.488721804511278,
          1.4987468671679194,
          1.5087719298245612,
          1.518796992481203,
          1.5288220551378444,
          1.5388471177944858,
          1.5488721804511276,
          1.5588972431077694,
          1.5689223057644108,
          1.5789473684210522,
          1.588972431077694,
          1.5989974937343359,
          1.6090225563909772,
          1.6190476190476186,
          1.6290726817042605,
          1.6390977443609023,
          1.6491228070175437,
          1.659147869674185,
          1.6691729323308269,
          1.6791979949874687,
          1.68922305764411,
          1.6992481203007515,
          1.7092731829573933,
          1.719298245614035,
          1.7293233082706765,
          1.7393483709273179,
          1.7493734335839597,
          1.7593984962406015,
          1.769423558897243,
          1.7794486215538843,
          1.789473684210526,
          1.799498746867168,
          1.8095238095238093,
          1.8195488721804507,
          1.8295739348370925,
          1.8395989974937343,
          1.8496240601503757,
          1.859649122807017,
          1.869674185463659,
          1.8796992481203008,
          1.8897243107769421,
          1.8997493734335835,
          1.9097744360902253,
          1.9197994987468672,
          1.9298245614035086,
          1.93984962406015,
          1.9498746867167918,
          1.9598997493734336,
          1.969924812030075,
          1.9799498746867163,
          1.9899749373433582,
          2
         ],
         "y": [
          0.1353352832366127,
          0.13669885143896834,
          0.13807615824812342,
          0.1394673420871626,
          0.14087254277384995,
          0.1422919015346808,
          0.1437255610190755,
          0.14517366531371606,
          0.14663635995702734,
          0.1481137919538038,
          0.14960610978998426,
          0.15111346344757473,
          0.15263600441972236,
          0.15417388572594068,
          0.15572726192748865,
          0.15729628914290433,
          0.1588811250636953,
          0.16048192897018712,
          0.16209886174753138,
          0.16373208590187505,
          0.16538176557669293,
          0.1670480665692844,
          0.16873115634743655,
          0.1704312040662551,
          0.172148380585165,
          0.17388285848508228,
          0.17563481208575885,
          0.1774044174633021,
          0.17919185246787114,
          0.18099729674155107,
          0.18282093173640762,
          0.18466294073272352,
          0.18652350885741864,
          0.18840282310265585,
          0.19030107234463417,
          0.1922184473625713,
          0.19415514085787752,
          0.19611134747352277,
          0.19808726381359862,
          0.20008308846307768,
          0.20209902200777177,
          0.2041352670544916,
          0.20619202825140892,
          0.20826951230862467,
          0.21036792801894352,
          0.21248748627885836,
          0.2146284001097458,
          0.21679088467927557,
          0.21897515732303532,
          0.22118143756637354,
          0.2234099471464623,
          0.22566091003458266,
          0.22793455245863423,
          0.23023110292587173,
          0.23255079224587058,
          0.23489385355372397,
          0.23726052233347344,
          0.2396510364417758,
          0.24206563613180826,
          0.24450456407741464,
          0.2469680653974946,
          0.24945638768063896,
          0.2519697810100128,
          0.25450849798848973,
          0.25707279376403896,
          0.25966292605536845,
          0.26227915517782646,
          0.2649217440695637,
          0.2675909583179596,
          0.2702870661863143,
          0.27301033864081015,
          0.27576104937774415,
          0.27853947485103564,
          0.2813458943000102,
          0.2841805897774644,
          0.28704384617801254,
          0.2899359512667195,
          0.2928571957080219,
          0.29580787309494055,
          0.2987882799785876,
          0.30179871589797036,
          0.3048394834100962,
          0.30791088812038003,
          0.3110132387133587,
          0.3141468469837144,
          0.3173120278676112,
          0.3205090994743466,
          0.32373838311832265,
          0.32700020335133895,
          0.33029488799521084,
          0.33362276817471637,
          0.3369841783508754,
          0.34037945635456374,
          0.34380894342046603,
          0.34727298422137093,
          0.3507719269028114,
          0.3543061231180545,
          0.35787592806344354,
          0.36148170051409606,
          0.36512380285996177,
          0.36880260114224395,
          0.3725184650901872,
          0.3762717681582366,
          0.3800628875635707,
          0.38389220432401294,
          0.38776010329632493,
          0.3916669732148856,
          0.39561320673076017,
          0.3995992004511626,
          0.4036253549793155,
          0.40769207495471227,
          0.41179976909378396,
          0.41594885023097683,
          0.42013973536024307,
          0.42437284567694994,
          0.4286486066202109,
          0.43296744791564373,
          0.43732980361855867,
          0.4417361121575826,
          0.44618681637872204,
          0.4506823635898704,
          0.45522320560576374,
          0.45980979879338935,
          0.4644426041178518,
          0.46912208718870135,
          0.4738487183067288,
          0.47862297251123204,
          0.48344532962775894,
          0.4883162743163309,
          0.4932362961201527,
          0.4982058895148127,
          0.5032255539579794,
          0.5082957939395977,
          0.513417119032592,
          0.5185900439440795,
          0.5238150885670996,
          0.5290927780328647,
          0.5344236427635373,
          0.5398082185255385,
          0.5452470464833946,
          0.5507406732541255,
          0.5562896509621804,
          0.5618945372949291,
          0.5675558955587099,
          0.5732742947354441,
          0.5790503095398203,
          0.5848845204770542,
          0.5907775139012316,
          0.5967298820742382,
          0.6027422232252836,
          0.608815141611025,
          0.6149492475762968,
          0.6211451576154515,
          0.6274034944343194,
          0.6337248870127924,
          0.6401099706680377,
          0.6465593871183489,
          0.6530737845476412,
          0.6596538176705949,
          0.6663001477984563,
          0.6730134429055008,
          0.6797943776961672,
          0.6866436336728664,
          0.6935618992044744,
          0.7005498695955156,
          0.7076082471560424,
          0.7147377412722196,
          0.7219390684776194,
          0.729212952525235,
          0.73656012446022,
          0.7439813226933603,
          0.7514772930752859,
          0.7590487889714318,
          0.7666965713377527,
          0.7744214087972012,
          0.7822240777169768,
          0.7901053622865523,
          0.7980660545964877,
          0.8061069547180372,
          0.814228870783558,
          0.8224326190677309,
          0.8307190240695971,
          0.8390889185954229,
          0.8475431438423996,
          0.8560825494831852,
          0.8647079937512993,
          0.8734203435273777,
          0.8822204744262968,
          0.8911092708851746,
          0.9000876262522591,
          0.909156442876713,
          0.9183166321993012,
          0.9275691148439936,
          0.9369148207104906,
          0.94635468906768,
          0.9558896686480366,
          0.9655207177429715,
          0.9752488042991443,
          0.9850749060157432,
          0.9950000104427473,
          1.0050251150801774,
          1.0151512274783474,
          1.0253793653391277,
          1.0357105566182239,
          1.0461458396284904,
          1.056686263144286,
          1.0673328865068756,
          1.0780867797308973,
          1.0889490236119028,
          1.09992070983498,
          1.1110029410844706,
          1.1221968311547919,
          1.133503505062376,
          1.1449240991587393,
          1.156459761244687,
          1.1681116506856697,
          1.179880938528304,
          1.191768807618066,
          1.2037764527181702,
          1.2159050806296456,
          1.228155910312623,
          1.2405301730088447,
          1.2530291123654074,
          1.2656539845597503,
          1.278406058425906,
          1.291286615582022,
          1.304296950559167,
          1.3174383709314328,
          1.3307121974473497,
          1.3441197641626281,
          1.357662418574232,
          1.371341521755806,
          1.3851584484944668,
          1.3991145874289759,
          1.4132113411892993,
          1.4274501265375745,
          1.4418323745105004,
          1.456359530563162,
          1.4710330547143005,
          1.4858544216930478,
          1.5008251210871437,
          1.5159466574926426,
          1.5312205506651302,
          1.5466483356724599,
          1.562231563049034,
          1.577971798951638,
          1.5938706253168407,
          1.6099296400199838,
          1.626150457035773,
          1.642534706600488,
          1.659084035375825,
          1.6758001066143888,
          1.6926846003268559,
          1.7097392134508216,
          1.726965660021345,
          1.7443656713432132,
          1.7619409961649433,
          1.7796934008545384,
          1.79762466957701,
          1.8157366044736905,
          1.834031025843355,
          1.8525097723251676,
          1.8711747010834678,
          1.8900276879944198,
          1.9090706278345433,
          1.9283054344711472,
          1.9477340410546755,
          1.967358400212993,
          1.9871804842476308,
          2.0072022853320113,
          2.0274258157116627,
          2.0478531079064566,
          2.0684862149148806,
          2.0893272104203735,
          2.110378188999735,
          2.131641266333632,
          2.1531185794192362,
          2.174812286784995,
          2.1967245687075723,
          2.2188576274309666,
          2.2412136873878468,
          2.2637949954231154,
          2.2866038210197193,
          2.3096424565267384,
          2.3329132173897738,
          2.3564184423836596,
          2.3801604938475136,
          2.4041417579221553,
          2.4283646447899248,
          2.452831588916912,
          2.477545049297625,
          2.502507509702127,
          2.5277214789256592,
          2.5531894910407877,
          2.5789141056520797,
          2.6048979081533505,
          2.6311435099875045,
          2.6576535489089936,
          2.684430689248917,
          2.7114776221827914,
          2.7387970660010246,
          2.766391766382111,
          2.794264496668582,
          2.8224180581457263,
          2.850855280323133,
          2.8795790212190666,
          2.908592167647703,
          2.9378976355092594,
          2.9674983700830535,
          2.9973973463235133,
          3.0275975691591674,
          3.058102073794644,
          3.0889139260157217,
          3.1200362224974496,
          3.1514720911153717,
          3.1832246912598827,
          3.2152972141537575,
          3.2476928831728813,
          3.2804149541702055,
          3.3134667158029654,
          3.3468514898632034,
          3.3805726316116207,
          3.4146335301147865,
          3.449037608585747,
          3.4837883247280685,
          3.5188891710833508,
          3.5543436753822335,
          3.5901554008989396,
          3.626327946809397,
          3.6628649485529685,
          3.6997700781978207,
          3.7370470448099744,
          3.774699594826077,
          3.812731512429934,
          3.851146619932827,
          3.8899487781576623,
          3.929141886826998,
          3.9687298849549797,
          4.0087167512432185,
          4.049106504480658,
          4.089903203947479,
          4.131110949823068,
          4.172733883598095,
          4.2147761884907435,
          4.257242089867132,
          4.300135855665986,
          4.343461796827569,
          4.387224267726943,
          4.4314276666115955,
          4.476076436043481,
          4.52117506334551,
          4.566728081052525,
          4.612740067366846,
          4.659215646618389,
          4.706159489729423,
          4.753576314684007,
          4.801470887002162,
          4.8498480202188246,
          4.8987125763676165,
          4.948069466469485,
          4.997923651026283,
          5.048280140519311,
          5.099143995912888,
          5.15052032916298,
          5.202414303730972,
          5.254831135102619,
          5.307776091312206,
          5.361254493471999,
          5.415271716307034,
          5.469833188695296,
          5.524944394213333,
          5.580610871687364,
          5.636838215749954,
          5.693632077402288,
          5.750998164582115,
          5.808942242737401,
          5.86747013540578,
          5.9265877247998375,
          5.986300952398287,
          6.0466158195431,
          6.107538388042657,
          6.169074780780987,
          6.231231182333126,
          6.294013839586677,
          6.357429062369651,
          6.421483224084618,
          6.486182762349252,
          6.551534179643321,
          6.617544043962213,
          6.684218989477039,
          6.751565717201382,
          6.819590995664759,
          6.888301661592885,
          6.957704620594788,
          7.027806847856833,
          7.098615388843745,
          7.170137360006702,
          7.242379949498562,
          7.315350417896289,
          7.38905609893065
         ]
        }
       ],
       "layout": {
        "template": {
         "data": {
          "bar": [
           {
            "error_x": {
             "color": "#2a3f5f"
            },
            "error_y": {
             "color": "#2a3f5f"
            },
            "marker": {
             "line": {
              "color": "#E5ECF6",
              "width": 0.5
             },
             "pattern": {
              "fillmode": "overlay",
              "size": 10,
              "solidity": 0.2
             }
            },
            "type": "bar"
           }
          ],
          "barpolar": [
           {
            "marker": {
             "line": {
              "color": "#E5ECF6",
              "width": 0.5
             },
             "pattern": {
              "fillmode": "overlay",
              "size": 10,
              "solidity": 0.2
             }
            },
            "type": "barpolar"
           }
          ],
          "carpet": [
           {
            "aaxis": {
             "endlinecolor": "#2a3f5f",
             "gridcolor": "white",
             "linecolor": "white",
             "minorgridcolor": "white",
             "startlinecolor": "#2a3f5f"
            },
            "baxis": {
             "endlinecolor": "#2a3f5f",
             "gridcolor": "white",
             "linecolor": "white",
             "minorgridcolor": "white",
             "startlinecolor": "#2a3f5f"
            },
            "type": "carpet"
           }
          ],
          "choropleth": [
           {
            "colorbar": {
             "outlinewidth": 0,
             "ticks": ""
            },
            "type": "choropleth"
           }
          ],
          "contour": [
           {
            "colorbar": {
             "outlinewidth": 0,
             "ticks": ""
            },
            "colorscale": [
             [
              0,
              "#0d0887"
             ],
             [
              0.1111111111111111,
              "#46039f"
             ],
             [
              0.2222222222222222,
              "#7201a8"
             ],
             [
              0.3333333333333333,
              "#9c179e"
             ],
             [
              0.4444444444444444,
              "#bd3786"
             ],
             [
              0.5555555555555556,
              "#d8576b"
             ],
             [
              0.6666666666666666,
              "#ed7953"
             ],
             [
              0.7777777777777778,
              "#fb9f3a"
             ],
             [
              0.8888888888888888,
              "#fdca26"
             ],
             [
              1,
              "#f0f921"
             ]
            ],
            "type": "contour"
           }
          ],
          "contourcarpet": [
           {
            "colorbar": {
             "outlinewidth": 0,
             "ticks": ""
            },
            "type": "contourcarpet"
           }
          ],
          "heatmap": [
           {
            "colorbar": {
             "outlinewidth": 0,
             "ticks": ""
            },
            "colorscale": [
             [
              0,
              "#0d0887"
             ],
             [
              0.1111111111111111,
              "#46039f"
             ],
             [
              0.2222222222222222,
              "#7201a8"
             ],
             [
              0.3333333333333333,
              "#9c179e"
             ],
             [
              0.4444444444444444,
              "#bd3786"
             ],
             [
              0.5555555555555556,
              "#d8576b"
             ],
             [
              0.6666666666666666,
              "#ed7953"
             ],
             [
              0.7777777777777778,
              "#fb9f3a"
             ],
             [
              0.8888888888888888,
              "#fdca26"
             ],
             [
              1,
              "#f0f921"
             ]
            ],
            "type": "heatmap"
           }
          ],
          "heatmapgl": [
           {
            "colorbar": {
             "outlinewidth": 0,
             "ticks": ""
            },
            "colorscale": [
             [
              0,
              "#0d0887"
             ],
             [
              0.1111111111111111,
              "#46039f"
             ],
             [
              0.2222222222222222,
              "#7201a8"
             ],
             [
              0.3333333333333333,
              "#9c179e"
             ],
             [
              0.4444444444444444,
              "#bd3786"
             ],
             [
              0.5555555555555556,
              "#d8576b"
             ],
             [
              0.6666666666666666,
              "#ed7953"
             ],
             [
              0.7777777777777778,
              "#fb9f3a"
             ],
             [
              0.8888888888888888,
              "#fdca26"
             ],
             [
              1,
              "#f0f921"
             ]
            ],
            "type": "heatmapgl"
           }
          ],
          "histogram": [
           {
            "marker": {
             "pattern": {
              "fillmode": "overlay",
              "size": 10,
              "solidity": 0.2
             }
            },
            "type": "histogram"
           }
          ],
          "histogram2d": [
           {
            "colorbar": {
             "outlinewidth": 0,
             "ticks": ""
            },
            "colorscale": [
             [
              0,
              "#0d0887"
             ],
             [
              0.1111111111111111,
              "#46039f"
             ],
             [
              0.2222222222222222,
              "#7201a8"
             ],
             [
              0.3333333333333333,
              "#9c179e"
             ],
             [
              0.4444444444444444,
              "#bd3786"
             ],
             [
              0.5555555555555556,
              "#d8576b"
             ],
             [
              0.6666666666666666,
              "#ed7953"
             ],
             [
              0.7777777777777778,
              "#fb9f3a"
             ],
             [
              0.8888888888888888,
              "#fdca26"
             ],
             [
              1,
              "#f0f921"
             ]
            ],
            "type": "histogram2d"
           }
          ],
          "histogram2dcontour": [
           {
            "colorbar": {
             "outlinewidth": 0,
             "ticks": ""
            },
            "colorscale": [
             [
              0,
              "#0d0887"
             ],
             [
              0.1111111111111111,
              "#46039f"
             ],
             [
              0.2222222222222222,
              "#7201a8"
             ],
             [
              0.3333333333333333,
              "#9c179e"
             ],
             [
              0.4444444444444444,
              "#bd3786"
             ],
             [
              0.5555555555555556,
              "#d8576b"
             ],
             [
              0.6666666666666666,
              "#ed7953"
             ],
             [
              0.7777777777777778,
              "#fb9f3a"
             ],
             [
              0.8888888888888888,
              "#fdca26"
             ],
             [
              1,
              "#f0f921"
             ]
            ],
            "type": "histogram2dcontour"
           }
          ],
          "mesh3d": [
           {
            "colorbar": {
             "outlinewidth": 0,
             "ticks": ""
            },
            "type": "mesh3d"
           }
          ],
          "parcoords": [
           {
            "line": {
             "colorbar": {
              "outlinewidth": 0,
              "ticks": ""
             }
            },
            "type": "parcoords"
           }
          ],
          "pie": [
           {
            "automargin": true,
            "type": "pie"
           }
          ],
          "scatter": [
           {
            "fillpattern": {
             "fillmode": "overlay",
             "size": 10,
             "solidity": 0.2
            },
            "type": "scatter"
           }
          ],
          "scatter3d": [
           {
            "line": {
             "colorbar": {
              "outlinewidth": 0,
              "ticks": ""
             }
            },
            "marker": {
             "colorbar": {
              "outlinewidth": 0,
              "ticks": ""
             }
            },
            "type": "scatter3d"
           }
          ],
          "scattercarpet": [
           {
            "marker": {
             "colorbar": {
              "outlinewidth": 0,
              "ticks": ""
             }
            },
            "type": "scattercarpet"
           }
          ],
          "scattergeo": [
           {
            "marker": {
             "colorbar": {
              "outlinewidth": 0,
              "ticks": ""
             }
            },
            "type": "scattergeo"
           }
          ],
          "scattergl": [
           {
            "marker": {
             "colorbar": {
              "outlinewidth": 0,
              "ticks": ""
             }
            },
            "type": "scattergl"
           }
          ],
          "scattermapbox": [
           {
            "marker": {
             "colorbar": {
              "outlinewidth": 0,
              "ticks": ""
             }
            },
            "type": "scattermapbox"
           }
          ],
          "scatterpolar": [
           {
            "marker": {
             "colorbar": {
              "outlinewidth": 0,
              "ticks": ""
             }
            },
            "type": "scatterpolar"
           }
          ],
          "scatterpolargl": [
           {
            "marker": {
             "colorbar": {
              "outlinewidth": 0,
              "ticks": ""
             }
            },
            "type": "scatterpolargl"
           }
          ],
          "scatterternary": [
           {
            "marker": {
             "colorbar": {
              "outlinewidth": 0,
              "ticks": ""
             }
            },
            "type": "scatterternary"
           }
          ],
          "surface": [
           {
            "colorbar": {
             "outlinewidth": 0,
             "ticks": ""
            },
            "colorscale": [
             [
              0,
              "#0d0887"
             ],
             [
              0.1111111111111111,
              "#46039f"
             ],
             [
              0.2222222222222222,
              "#7201a8"
             ],
             [
              0.3333333333333333,
              "#9c179e"
             ],
             [
              0.4444444444444444,
              "#bd3786"
             ],
             [
              0.5555555555555556,
              "#d8576b"
             ],
             [
              0.6666666666666666,
              "#ed7953"
             ],
             [
              0.7777777777777778,
              "#fb9f3a"
             ],
             [
              0.8888888888888888,
              "#fdca26"
             ],
             [
              1,
              "#f0f921"
             ]
            ],
            "type": "surface"
           }
          ],
          "table": [
           {
            "cells": {
             "fill": {
              "color": "#EBF0F8"
             },
             "line": {
              "color": "white"
             }
            },
            "header": {
             "fill": {
              "color": "#C8D4E3"
             },
             "line": {
              "color": "white"
             }
            },
            "type": "table"
           }
          ]
         },
         "layout": {
          "annotationdefaults": {
           "arrowcolor": "#2a3f5f",
           "arrowhead": 0,
           "arrowwidth": 1
          },
          "autotypenumbers": "strict",
          "coloraxis": {
           "colorbar": {
            "outlinewidth": 0,
            "ticks": ""
           }
          },
          "colorscale": {
           "diverging": [
            [
             0,
             "#8e0152"
            ],
            [
             0.1,
             "#c51b7d"
            ],
            [
             0.2,
             "#de77ae"
            ],
            [
             0.3,
             "#f1b6da"
            ],
            [
             0.4,
             "#fde0ef"
            ],
            [
             0.5,
             "#f7f7f7"
            ],
            [
             0.6,
             "#e6f5d0"
            ],
            [
             0.7,
             "#b8e186"
            ],
            [
             0.8,
             "#7fbc41"
            ],
            [
             0.9,
             "#4d9221"
            ],
            [
             1,
             "#276419"
            ]
           ],
           "sequential": [
            [
             0,
             "#0d0887"
            ],
            [
             0.1111111111111111,
             "#46039f"
            ],
            [
             0.2222222222222222,
             "#7201a8"
            ],
            [
             0.3333333333333333,
             "#9c179e"
            ],
            [
             0.4444444444444444,
             "#bd3786"
            ],
            [
             0.5555555555555556,
             "#d8576b"
            ],
            [
             0.6666666666666666,
             "#ed7953"
            ],
            [
             0.7777777777777778,
             "#fb9f3a"
            ],
            [
             0.8888888888888888,
             "#fdca26"
            ],
            [
             1,
             "#f0f921"
            ]
           ],
           "sequentialminus": [
            [
             0,
             "#0d0887"
            ],
            [
             0.1111111111111111,
             "#46039f"
            ],
            [
             0.2222222222222222,
             "#7201a8"
            ],
            [
             0.3333333333333333,
             "#9c179e"
            ],
            [
             0.4444444444444444,
             "#bd3786"
            ],
            [
             0.5555555555555556,
             "#d8576b"
            ],
            [
             0.6666666666666666,
             "#ed7953"
            ],
            [
             0.7777777777777778,
             "#fb9f3a"
            ],
            [
             0.8888888888888888,
             "#fdca26"
            ],
            [
             1,
             "#f0f921"
            ]
           ]
          },
          "colorway": [
           "#636efa",
           "#EF553B",
           "#00cc96",
           "#ab63fa",
           "#FFA15A",
           "#19d3f3",
           "#FF6692",
           "#B6E880",
           "#FF97FF",
           "#FECB52"
          ],
          "font": {
           "color": "#2a3f5f"
          },
          "geo": {
           "bgcolor": "white",
           "lakecolor": "white",
           "landcolor": "#E5ECF6",
           "showlakes": true,
           "showland": true,
           "subunitcolor": "white"
          },
          "hoverlabel": {
           "align": "left"
          },
          "hovermode": "closest",
          "mapbox": {
           "style": "light"
          },
          "paper_bgcolor": "white",
          "plot_bgcolor": "#E5ECF6",
          "polar": {
           "angularaxis": {
            "gridcolor": "white",
            "linecolor": "white",
            "ticks": ""
           },
           "bgcolor": "#E5ECF6",
           "radialaxis": {
            "gridcolor": "white",
            "linecolor": "white",
            "ticks": ""
           }
          },
          "scene": {
           "xaxis": {
            "backgroundcolor": "#E5ECF6",
            "gridcolor": "white",
            "gridwidth": 2,
            "linecolor": "white",
            "showbackground": true,
            "ticks": "",
            "zerolinecolor": "white"
           },
           "yaxis": {
            "backgroundcolor": "#E5ECF6",
            "gridcolor": "white",
            "gridwidth": 2,
            "linecolor": "white",
            "showbackground": true,
            "ticks": "",
            "zerolinecolor": "white"
           },
           "zaxis": {
            "backgroundcolor": "#E5ECF6",
            "gridcolor": "white",
            "gridwidth": 2,
            "linecolor": "white",
            "showbackground": true,
            "ticks": "",
            "zerolinecolor": "white"
           }
          },
          "shapedefaults": {
           "line": {
            "color": "#2a3f5f"
           }
          },
          "ternary": {
           "aaxis": {
            "gridcolor": "white",
            "linecolor": "white",
            "ticks": ""
           },
           "baxis": {
            "gridcolor": "white",
            "linecolor": "white",
            "ticks": ""
           },
           "bgcolor": "#E5ECF6",
           "caxis": {
            "gridcolor": "white",
            "linecolor": "white",
            "ticks": ""
           }
          },
          "title": {
           "x": 0.05
          },
          "xaxis": {
           "automargin": true,
           "gridcolor": "white",
           "linecolor": "white",
           "ticks": "",
           "title": {
            "standoff": 15
           },
           "zerolinecolor": "white",
           "zerolinewidth": 2
          },
          "yaxis": {
           "automargin": true,
           "gridcolor": "white",
           "linecolor": "white",
           "ticks": "",
           "title": {
            "standoff": 15
           },
           "zerolinecolor": "white",
           "zerolinewidth": 2
          }
         }
        },
        "title": {
         "text": "Scatter Plot using Plotly"
        },
        "xaxis": {
         "title": {
          "text": "X Axis"
         }
        },
        "yaxis": {
         "title": {
          "text": "Y Axis"
         }
        }
       }
      }
     },
     "metadata": {},
     "output_type": "display_data"
    }
   ],
   "source": [
    "x = np.linspace(-2, 2, 400)  # Range of x from -2 to 2, with 400 points in between\n",
    "\n",
    "# Compute y values\n",
    "y = np.exp(x)\n",
    "fig = go.Figure()\n",
    "fig.add_trace(go.Scatter(x=x, y=y, mode='markers', name='Data Points'))\n",
    "fig.update_layout(title='Plot of y = e^x', xaxis_title='X Axis', yaxis_title='Y Axis')\n",
    "fig.show()"
   ]
  },
  {
   "cell_type": "code",
   "execution_count": null,
   "metadata": {},
   "outputs": [],
   "source": [
    "#first we need to concatenate input and the previous hidden state\n",
    "#right now we dont have any previous result of hidden state. Thats because it is gonna be O for now.\n",
    "concat = np.vstack((h, x))\n",
    "concat"
   ]
  },
  {
   "cell_type": "code",
   "execution_count": null,
   "metadata": {},
   "outputs": [],
   "source": [
    "W_f = [0,1,1,2,2]\n",
    "z_f = np.dot(W_f,concat)\n",
    "z_f"
   ]
  },
  {
   "cell_type": "code",
   "execution_count": null,
   "metadata": {},
   "outputs": [],
   "source": [
    "np.exp(-z_f)"
   ]
  },
  {
   "cell_type": "code",
   "execution_count": null,
   "metadata": {},
   "outputs": [],
   "source": [
    "#basic sigmoid function\n",
    "def sigmoid(x):\n",
    "    return 1 / (1 + np.exp(-x))\n",
    "\n",
    "#Forget gate: \n",
    "W_f = np.random.randn(hidden_size, input_size + hidden_size) # W_f --> weight of forget gate\n",
    "b_f = np.zeros((hidden_size, 1)) # b_f --> bias of the forget gate which is 0 \n",
    "\n",
    "z_f = np.dot(W_f, concat) + b_f\n",
    "\n",
    "f_t = sigmoid(z_f)\n",
    "print((W_f,b_f, z_f, f_t))"
   ]
  },
  {
   "cell_type": "code",
   "execution_count": null,
   "metadata": {},
   "outputs": [],
   "source": [
    "z_f = np.dot(W_f, concat) + b_f\n",
    "\n",
    "# Compute z_f\n",
    "z_f = np.dot(W_f, concat) + b_f\n",
    "z_f = np.array([[0.68981816,  1.30184623, -0.62808756, -0.48102712,  2.3039167 ]]) @ np.array([[0.  ],\n",
    "                                                                                               [0.2 ],\n",
    "                                                                                               [0.25],\n",
    "                                                                                               [0.25],\n",
    "                                                                                               [0.25]]) + np.array([[0.]])\n",
    "\n",
    "z_f"
   ]
  },
  {
   "cell_type": "code",
   "execution_count": null,
   "metadata": {},
   "outputs": [],
   "source": [
    "#basic sigmoid function\n",
    "def sigmoid(x):\n",
    "    return 1 / (1 + np.exp(-x))\n",
    "\n",
    "#Input gate: \n",
    "W_i = np.random.randn(hidden_size, input_size + hidden_size) # W_i --> weight of input gate\n",
    "b_i = np.zeros((hidden_size, 1)) # b_i --> bias of the input gate which is 0 \n",
    "\n",
    "\n",
    "i_t = sigmoid(np.dot(W_i, concat) + b_i)\n",
    "print((W_i,b_i, i_t))"
   ]
  },
  {
   "cell_type": "code",
   "execution_count": null,
   "metadata": {},
   "outputs": [],
   "source": [
    "import numpy as np\n",
    "\n",
    "class LSTMCell:\n",
    "    def __init__(self, input_size, hidden_size):\n",
    "        self.input_size = input_size\n",
    "        self.hidden_size = hidden_size\n",
    "        \n",
    "        # Weight matrices and bias vectors for the forget gate\n",
    "        self.W_f = np.random.randn(hidden_size, input_size + hidden_size)\n",
    "        self.b_f = np.zeros((hidden_size, 1))\n",
    "        \n",
    "        # Weight matrices and bias vectors for the input gate\n",
    "        self.W_i = np.random.randn(hidden_size, input_size + hidden_size)\n",
    "        self.b_i = np.zeros((hidden_size, 1))\n",
    "        \n",
    "        # Weight matrices and bias vectors for the cell state\n",
    "        self.W_C = np.random.randn(hidden_size, input_size + hidden_size)\n",
    "        self.b_C = np.zeros((hidden_size, 1))\n",
    "        \n",
    "        # Weight matrices and bias vectors for the output gate\n",
    "        self.W_o = np.random.randn(hidden_size, input_size + hidden_size)\n",
    "        self.b_o = np.zeros((hidden_size, 1))\n",
    "        \n",
    "        # Initialize cell state and hidden state to zero\n",
    "        self.C = np.zeros((hidden_size, 1))\n",
    "        self.h = np.zeros((hidden_size, 1))\n",
    "    \n",
    "    def sigmoid(self, x):\n",
    "        return 1 / (1 + np.exp(-x))\n",
    "    \n",
    "    def tanh(self, x):\n",
    "        return np.tanh(x)\n",
    "    \n",
    "    def forward(self, x):\n",
    "        # Concatenate input and previous hidden state\n",
    "        concat = np.vstack((self.h, x))\n",
    "        \n",
    "        # Forget gate\n",
    "        f_t = self.sigmoid(np.dot(self.W_f, concat) + self.b_f)\n",
    "        \n",
    "        # Input gate\n",
    "        i_t = self.sigmoid(np.dot(self.W_i, concat) + self.b_i)\n",
    "        \n",
    "        # Candidate cell state\n",
    "        C_tilde = self.tanh(np.dot(self.W_C, concat) + self.b_C)\n",
    "        \n",
    "        # Cell state\n",
    "        self.C = f_t * self.C + i_t * C_tilde\n",
    "        \n",
    "        # Output gate\n",
    "        o_t = self.sigmoid(np.dot(self.W_o, concat) + self.b_o)\n",
    "        \n",
    "        # Hidden state\n",
    "        self.h = o_t * self.tanh(self.C)\n",
    "        \n",
    "        return self.h, self.C\n",
    "\n",
    "input_size = 3  # Input feature size\n",
    "hidden_size = 2  # Number of LSTM units\n",
    "\n",
    "# Create an LSTM cell\n",
    "lstm_cell = LSTMCell(input_size, hidden_size)\n",
    "\n",
    "# Example input (3 features)\n",
    "x = np.random.randn(input_size, 1)\n",
    "\n",
    "# Forward pass through the LSTM cell\n",
    "h, C = lstm_cell.forward(x)\n",
    "\n",
    "print(\"Hidden state (h):\\n\", h)\n",
    "print(\"Cell state (C):\\n\", C)\n"
   ]
  },
  {
   "cell_type": "code",
   "execution_count": null,
   "metadata": {},
   "outputs": [],
   "source": [
    "# Generate days of the year\n",
    "days = np.arange(1, 366, 1)\n",
    "\n",
    "# Calculate sine and cosine transformations\n",
    "day_sin = np.sin(2 * np.pi * days / 365)\n",
    "day_cos = np.cos(2 * np.pi * days / 365)\n",
    "\n",
    "# Create a DataFrame to display the results\n",
    "df_days = pd.DataFrame({\n",
    "    'Day': days,\n",
    "    'Day_sin': day_sin,\n",
    "    'Day_cos': day_cos\n",
    "})\n",
    "\n",
    "df_days"
   ]
  },
  {
   "cell_type": "code",
   "execution_count": null,
   "metadata": {},
   "outputs": [],
   "source": [
    "import numpy as np\n",
    "import matplotlib.pyplot as plt\n",
    "\n",
    "# Generate synthetic data\n",
    "np.random.seed(0)\n",
    "X = np.random.rand(100, 1)\n",
    "y = X * 10 + np.random.randn(100, 1)\n",
    "\n",
    "# Plot the data\n",
    "plt.figure(figsize=(10, 6))\n",
    "plt.scatter(X, y, color='blue')\n",
    "plt.title('Synthetic Data: House Prices vs. Square Footage')\n",
    "plt.xlabel('Square Footage (x)')\n",
    "plt.ylabel('House Price (y)')\n",
    "plt.show()\n",
    "\n",
    "\n"
   ]
  },
  {
   "cell_type": "code",
   "execution_count": null,
   "metadata": {},
   "outputs": [],
   "source": [
    "from sklearn.linear_model import LinearRegression\n",
    "\n",
    "# Create and fit the linear regression model\n",
    "lin_reg = LinearRegression()\n",
    "lin_reg.fit(X, y)\n",
    "\n",
    "# Get the slope (m) and intercept (b)\n",
    "m = lin_reg.coef_[0][0]\n",
    "b = lin_reg.intercept_[0]\n",
    "\n",
    "print(f\"Slope (m): {m}\")\n",
    "print(f\"Intercept (b): {b}\")"
   ]
  },
  {
   "cell_type": "code",
   "execution_count": null,
   "metadata": {},
   "outputs": [],
   "source": [
    "# Predict y values\n",
    "y_pred = lin_reg.predict(X)\n",
    "\n",
    "# Plot the data and the regression line\n",
    "plt.figure(figsize=(10, 6))\n",
    "plt.scatter(X, y, color='blue', label='Data points')\n",
    "plt.plot(X, y_pred, color='red', linewidth=2, label='Regression line')\n",
    "plt.title('Simple Linear Regression: House Prices vs. Square Footage')\n",
    "plt.xlabel('Square Footage (x)')\n",
    "plt.ylabel('House Price (y)')\n",
    "plt.legend()\n",
    "plt.show()\n"
   ]
  },
  {
   "cell_type": "code",
   "execution_count": null,
   "metadata": {},
   "outputs": [],
   "source": [
    "from sklearn.metrics import mean_squared_error\n",
    "\n",
    "# Calculate the Mean Squared Error\n",
    "mse = mean_squared_error(y, y_pred)\n",
    "print(f\"Mean Squared Error (MSE): {mse}\")"
   ]
  },
  {
   "cell_type": "code",
   "execution_count": null,
   "metadata": {},
   "outputs": [],
   "source": []
  },
  {
   "cell_type": "code",
   "execution_count": null,
   "metadata": {},
   "outputs": [],
   "source": [
    "\n",
    "df.head()"
   ]
  }
 ],
 "metadata": {
  "kernelspec": {
   "display_name": ".venv",
   "language": "python",
   "name": "python3"
  },
  "language_info": {
   "codemirror_mode": {
    "name": "ipython",
    "version": 3
   },
   "file_extension": ".py",
   "mimetype": "text/x-python",
   "name": "python",
   "nbconvert_exporter": "python",
   "pygments_lexer": "ipython3",
   "version": "3.11.9"
  }
 },
 "nbformat": 4,
 "nbformat_minor": 2
}
